{
 "cells": [
  {
   "cell_type": "code",
   "execution_count": 1,
   "metadata": {
    "collapsed": true
   },
   "outputs": [],
   "source": [
    "import os\n",
    "import requests\n",
    "import json\n",
    "import re\n",
    "import time\n",
    "import glob\n",
    "import pandas as pd\n",
    "import matplotlib.pyplot as plt\n",
    "import seaborn as sns\n",
    "import numpy as np\n",
    "import os.path\n",
    "from os.path import join\n",
    "from slugify import slugify\n",
    "from bs4 import BeautifulSoup\n",
    "from bs4.element import NavigableString\n",
    "from urllib.parse import urlparse, parse_qs\n",
    "from urllib import parse\n",
    "\n",
    "base_dir = \"wow-tours\"\n",
    "if not os.path.exists(base_dir):\n",
    "    os.makedirs(base_dir)\n",
    "    \n",
    "tours_json_dir = \"wow-tours/json\"\n",
    "if not os.path.exists(tours_json_dir):\n",
    "    os.makedirs(tours_json_dir)\n",
    "    \n",
    "tours_json_activities_dir = \"wow-tours/json-activities\"\n",
    "if not os.path.exists(tours_json_activities_dir):\n",
    "    os.makedirs(tours_json_activities_dir)"
   ]
  },
  {
   "cell_type": "markdown",
   "metadata": {},
   "source": [
    "To get all the torus we need to scrape the main page, from it, we need to find the div with `class` name `row tour-list`"
   ]
  },
  {
   "cell_type": "code",
   "execution_count": null,
   "metadata": {
    "collapsed": true
   },
   "outputs": [],
   "source": [
    "wow_tours_url = \"https://tours.wowair.com/tours/\"\n",
    "wow_tours_soup = BeautifulSoup(requests.get(wow_tours_url).text, \"lxml\")\n",
    "div_tour_list = wow_tours_soup.find(\"div\", {\"class\":\"row tour-list\"})"
   ]
  },
  {
   "cell_type": "markdown",
   "metadata": {},
   "source": [
    "Inside this tour list, find all the `div` with class name `tour-box`. Inside each tour box, there is an anchor tag with the link to the details of each tour."
   ]
  },
  {
   "cell_type": "code",
   "execution_count": null,
   "metadata": {
    "collapsed": true,
    "scrolled": false
   },
   "outputs": [],
   "source": [
    "tour_boxes = div_tour_list.findAll(\"div\", {\"class\":\"tour-box\"})\n",
    "urls = []\n",
    "for tour_box in tour_boxes:\n",
    "    anchor = tour_box.find(\"a\")\n",
    "    url = anchor.get(\"href\")\n",
    "    if url.startswith(\"/\"):\n",
    "        urls.append(url)"
   ]
  },
  {
   "cell_type": "code",
   "execution_count": null,
   "metadata": {
    "collapsed": true,
    "scrolled": true
   },
   "outputs": [],
   "source": [
    "real_urls = []\n",
    "for url in urls:\n",
    "    tour_page = BeautifulSoup(requests.get(\"https://tours.wowair.com\" + url).text, \"lxml\")\n",
    "    div_container = tour_page.find(\"div\",  {\"class\":\"package-content\"})\n",
    "    script_tag = div_container.find(\"script\")\n",
    "    script_lines= script_tag.text.split(\"\\r\\n\")\n",
    "    real_urls.append(script_lines[4].strip()[len(\"var frameUrl = 'https://' + host + '\") +1 : -2])\n",
    "print(\"Done getting web pages\")"
   ]
  },
  {
   "cell_type": "code",
   "execution_count": null,
   "metadata": {
    "collapsed": true
   },
   "outputs": [],
   "source": [
    "import html\n",
    "host = 'widgets.bokun.is'\n",
    "for real_url in real_urls:\n",
    "    real_tour_url = html.unescape(\"https://\" + host + \"/\" + real_url)\n",
    "    rt_url = urlparse(real_tour_url)\n",
    "    rt_qs = parse_qs(rt_url.query)\n",
    "    if \"activityId\" in rt_qs:\n",
    "        activityId = rt_qs[\"activityId\"][0]\n",
    "        file_location = join(tours_json_dir, activityId + \".json\")\n",
    "    \n",
    "        if os.path.isfile(file_location):\n",
    "            continue\n",
    "        tour_json_url = \"https://widgets.bokun.is/widgets/1825/activity/\" + activityId + \"/activity-json?bookingChannelUUID=fd0d0807-6375-49cf-9c61-74c1ef1ad41b\"\n",
    "    \n",
    "        tour_json = requests.get(tour_json_url).text\n",
    "        with open(file_location, \"w\") as file:\n",
    "            file.write(tour_json)\n",
    "    else:\n",
    "        print(real_tour_url)"
   ]
  },
  {
   "cell_type": "code",
   "execution_count": 8,
   "metadata": {
    "scrolled": false
   },
   "outputs": [
    {
     "name": "stdout",
     "output_type": "stream",
     "text": [
      "::::: Error wow-tours/json/670.json\n"
     ]
    }
   ],
   "source": [
    "import glob\n",
    "\n",
    "proposed_empty_fields = [\"requiredCustomerFields\",\n",
    "                         \"paymentCurrencies\",\n",
    "                         \"videos\",\n",
    "                         \"categories\",\n",
    "                         \"tagGroups\",\n",
    "                         \"guidanceTypes\",\n",
    "                         \"agendaItems\",\n",
    "                         \"seasonalOpeningHours\",\n",
    "                         \"activityAttributes\",\n",
    "                         \"startPoints\",\n",
    "                         \"bookableExtras\",\n",
    "                         \"supportedAccessibilityTypes\",\n",
    "                         \"activityCategories\",\n",
    "                         \"dropoffFlags\",\n",
    "                         \"pickupFlags\",\n",
    "                         \"dayOptions\"]\n",
    "\n",
    "fields_with_flags = [\"customFields\",\"tagGroups\",\n",
    "                     \"cancellationPolicy\"\n",
    "                     \"categories\", \"startTimes\", \"bookableExtras\",\"pricingCategories\"]\n",
    "\n",
    "def clean_fields(o, del_id=True):\n",
    "    if \"flags\" in o and len(o[\"flags\"]) == 0:\n",
    "        del o[\"flags\"]\n",
    "    if del_id and \"id\" in o and not isinstance(o, str):\n",
    "        try:\n",
    "            del o[\"id\"]\n",
    "        except TypeError:\n",
    "            print(o)\n",
    "            return False\n",
    "    return True\n",
    "\n",
    "#from https://stackoverflow.com/a/4256027/605482\n",
    "def del_none(d):\n",
    "    \"\"\"\n",
    "    Delete keys with the value ``None`` in a dictionary, recursively.\n",
    "\n",
    "    This alters the input so you may wish to ``copy`` the dict first.\n",
    "    \"\"\"\n",
    "    # For Python 3, write `list(d.items())`; `d.items()` won’t work\n",
    "    # For Python 2, write `d.items()`; `d.iteritems()` won’t work\n",
    "    for key, value in list(d.items()):\n",
    "        if value is None:\n",
    "            del d[key]\n",
    "        elif isinstance(value, str): # Adition to strip strings\n",
    "            d[key] = d[key].strip()\n",
    "        elif isinstance(value, dict):\n",
    "            del_none(value)\n",
    "    return d  # For convenience\n",
    "\n",
    "for file in glob.glob(tours_json_dir + '/*.json'):\n",
    "    full_json = None\n",
    "    try:\n",
    "        with open(file, \"r\") as r:\n",
    "            full_json = json.load(r)\n",
    "        activity = full_json[\"activity\"]\n",
    "        \n",
    "        if \"productCategory\" in activity:\n",
    "            del activity[\"productCategory\"]\n",
    "        \n",
    "        del_none(activity)\n",
    "        clean_fields(activity, del_id=False)\n",
    "        \n",
    "        if \"photos\" in activity:\n",
    "            for photo in activity[\"photos\"]:\n",
    "                if not clean_fields(photo):\n",
    "                    print(file)\n",
    "                del photo[\"derived\"], photo[\"fileName\"]\n",
    "        \n",
    "        if \"keyPhoto\" in activity and activity[\"keyPhoto\"] is not None:\n",
    "            if \"derived\" in activity[\"keyPhoto\"]:\n",
    "                clean_fields(activity[\"keyPhoto\"])\n",
    "                del activity[\"keyPhoto\"][\"derived\"], activity[\"keyPhoto\"][\"fileName\"]\n",
    "        \n",
    "        \n",
    "        for field_with_flags in fields_with_flags:\n",
    "            if field_with_flags not in activity:\n",
    "                continue\n",
    "            for f in activity[field_with_flags]:\n",
    "                clean_fields(f)\n",
    "        \n",
    "        for proposed_empty_field in proposed_empty_fields:\n",
    "            if len(activity[proposed_empty_field]) > 0:\n",
    "                if proposed_empty_field == \"videos\":\n",
    "                    for video in activity[\"videos\"]:\n",
    "                        del video[\"cleanThumbnailUrl\"], video[\"cleanPreviewUrl\"], video[\"html\"],\n",
    "                        video[\"thumbnailUrl\"], video[\"previewUrl\"]\n",
    "                elif proposed_empty_field == \"requiredCustomerFields\":\n",
    "                    if activity[\"requiredCustomerFields\"][0] == \"\":\n",
    "                        del activity[\"requiredCustomerFields\"]\n",
    "                else:\n",
    "                    for non_empty_field in activity[proposed_empty_field]:\n",
    "                        if not clean_fields(non_empty_field):\n",
    "                            print(\"Error cleaning:\", file)\n",
    "            else:\n",
    "                del activity[proposed_empty_field]\n",
    "                \n",
    "        activity_file_name = \"%d-%s.json\" % (int(activity[\"id\"]), slugify(activity[\"title\"]))\n",
    "        \n",
    "        with open(join(tours_json_activities_dir, activity_file_name), \"w\") as w:\n",
    "            json.dump(activity, w)\n",
    "    except json.JSONDecodeError:\n",
    "        print(\":\"*5, \"Error\", file)"
   ]
  },
  {
   "cell_type": "code",
   "execution_count": 12,
   "metadata": {},
   "outputs": [
    {
     "data": {
      "text/html": [
       "<div>\n",
       "<style>\n",
       "    .dataframe thead tr:only-child th {\n",
       "        text-align: right;\n",
       "    }\n",
       "\n",
       "    .dataframe thead th {\n",
       "        text-align: left;\n",
       "    }\n",
       "\n",
       "    .dataframe tbody tr th {\n",
       "        vertical-align: top;\n",
       "    }\n",
       "</style>\n",
       "<table border=\"1\" class=\"dataframe\">\n",
       "  <thead>\n",
       "    <tr style=\"text-align: right;\">\n",
       "      <th></th>\n",
       "      <th>description</th>\n",
       "      <th>duration</th>\n",
       "      <th>duration_type</th>\n",
       "      <th>keywords</th>\n",
       "      <th>level</th>\n",
       "      <th>title</th>\n",
       "    </tr>\n",
       "  </thead>\n",
       "  <tbody>\n",
       "    <tr>\n",
       "      <th>0</th>\n",
       "      <td>&lt;div class=\"font-play size-18\"&gt; \\t\\t\\t&lt;p&gt;Now y...</td>\n",
       "      <td>21600</td>\n",
       "      <td>HOURS</td>\n",
       "      <td>[northern lights, Whale watching, combo tour, ...</td>\n",
       "      <td>VERY_EASY</td>\n",
       "      <td>Whale Watching &amp; Northern lights Combo</td>\n",
       "    </tr>\n",
       "    <tr>\n",
       "      <th>1</th>\n",
       "      <td>This happy hour tour is taking you to the cent...</td>\n",
       "      <td>3600</td>\n",
       "      <td>HOURS</td>\n",
       "      <td>[]</td>\n",
       "      <td>EASY</td>\n",
       "      <td>New York Craft Cocktail Tour</td>\n",
       "    </tr>\n",
       "    <tr>\n",
       "      <th>2</th>\n",
       "      <td>&lt;p&gt;Your epic full-day NYC tour will begin in C...</td>\n",
       "      <td>39600</td>\n",
       "      <td>HOURS</td>\n",
       "      <td>[]</td>\n",
       "      <td>VERY_EASY</td>\n",
       "      <td>Total NYC Tour Combo 1: Tenements, Midtown &amp; C...</td>\n",
       "    </tr>\n",
       "    <tr>\n",
       "      <th>3</th>\n",
       "      <td>Explore a few of Iceland‘s most famous landmar...</td>\n",
       "      <td>32400</td>\n",
       "      <td>HOURS</td>\n",
       "      <td>[northern lights, cre-10, golden circle, combo...</td>\n",
       "      <td>EASY</td>\n",
       "      <td>The Golden Circle &amp; Northern Lights - Combo Deal</td>\n",
       "    </tr>\n",
       "    <tr>\n",
       "      <th>4</th>\n",
       "      <td>&lt;p class=\"p1\"&gt;&lt;b&gt;Icelandic beer, local beer hi...</td>\n",
       "      <td>7230</td>\n",
       "      <td>HOURS</td>\n",
       "      <td>[]</td>\n",
       "      <td>VERY_EASY</td>\n",
       "      <td>The Reykjavik Beer Tour</td>\n",
       "    </tr>\n",
       "    <tr>\n",
       "      <th>5</th>\n",
       "      <td>&lt;div&gt;From the cafÃ©s and restaurants, to the s...</td>\n",
       "      <td>10800</td>\n",
       "      <td>HOURS</td>\n",
       "      <td>[]</td>\n",
       "      <td>MODERATE</td>\n",
       "      <td>North Beach/Little Italy Walking Food Tour</td>\n",
       "    </tr>\n",
       "    <tr>\n",
       "      <th>6</th>\n",
       "      <td>&lt;p&gt;&lt;/p&gt;&lt;h4&gt;WHY YOU SHOULD GO&lt;/h4&gt;Enjoy 24hrs o...</td>\n",
       "      <td>86400</td>\n",
       "      <td>HOURS</td>\n",
       "      <td>[]</td>\n",
       "      <td>VERY_EASY</td>\n",
       "      <td>24hrs City Sightseeing Dublin Hop on-off 2 rou...</td>\n",
       "    </tr>\n",
       "    <tr>\n",
       "      <th>7</th>\n",
       "      <td>&lt;p&gt;&lt;h2&gt;Come with us and enjoy four days of an ...</td>\n",
       "      <td>345600</td>\n",
       "      <td>DAYS</td>\n",
       "      <td>[Laugavegur, Fimmvörðuháls, Golden Circle, Tho...</td>\n",
       "      <td>MODERATE</td>\n",
       "      <td>Northern Lights Trek - 4 Day Tour</td>\n",
       "    </tr>\n",
       "    <tr>\n",
       "      <th>8</th>\n",
       "      <td>&lt;p&gt;Buy 1 seat for up to 6 people! Your private...</td>\n",
       "      <td>39600</td>\n",
       "      <td>HOURS</td>\n",
       "      <td>[Dropoff, Glacier hike, South coast, Northern ...</td>\n",
       "      <td>VERY_EASY</td>\n",
       "      <td>Private northern lights &amp; Glacier hiking day tour</td>\n",
       "    </tr>\n",
       "    <tr>\n",
       "      <th>9</th>\n",
       "      <td>Design your own journey around San Francisco b...</td>\n",
       "      <td>86400</td>\n",
       "      <td>DAYS</td>\n",
       "      <td>[]</td>\n",
       "      <td>EASY</td>\n",
       "      <td>San Francisco City Hop On and Hop Off</td>\n",
       "    </tr>\n",
       "  </tbody>\n",
       "</table>\n",
       "</div>"
      ],
      "text/plain": [
       "                                         description  duration duration_type  \\\n",
       "0  <div class=\"font-play size-18\"> \\t\\t\\t<p>Now y...     21600         HOURS   \n",
       "1  This happy hour tour is taking you to the cent...      3600         HOURS   \n",
       "2  <p>Your epic full-day NYC tour will begin in C...     39600         HOURS   \n",
       "3  Explore a few of Iceland‘s most famous landmar...     32400         HOURS   \n",
       "4  <p class=\"p1\"><b>Icelandic beer, local beer hi...      7230         HOURS   \n",
       "5  <div>From the cafÃ©s and restaurants, to the s...     10800         HOURS   \n",
       "6  <p></p><h4>WHY YOU SHOULD GO</h4>Enjoy 24hrs o...     86400         HOURS   \n",
       "7  <p><h2>Come with us and enjoy four days of an ...    345600          DAYS   \n",
       "8  <p>Buy 1 seat for up to 6 people! Your private...     39600         HOURS   \n",
       "9  Design your own journey around San Francisco b...     86400          DAYS   \n",
       "\n",
       "                                            keywords      level  \\\n",
       "0  [northern lights, Whale watching, combo tour, ...  VERY_EASY   \n",
       "1                                                 []       EASY   \n",
       "2                                                 []  VERY_EASY   \n",
       "3  [northern lights, cre-10, golden circle, combo...       EASY   \n",
       "4                                                 []  VERY_EASY   \n",
       "5                                                 []   MODERATE   \n",
       "6                                                 []  VERY_EASY   \n",
       "7  [Laugavegur, Fimmvörðuháls, Golden Circle, Tho...   MODERATE   \n",
       "8  [Dropoff, Glacier hike, South coast, Northern ...  VERY_EASY   \n",
       "9                                                 []       EASY   \n",
       "\n",
       "                                               title  \n",
       "0             Whale Watching & Northern lights Combo  \n",
       "1                       New York Craft Cocktail Tour  \n",
       "2  Total NYC Tour Combo 1: Tenements, Midtown & C...  \n",
       "3   The Golden Circle & Northern Lights - Combo Deal  \n",
       "4                            The Reykjavik Beer Tour  \n",
       "5         North Beach/Little Italy Walking Food Tour  \n",
       "6  24hrs City Sightseeing Dublin Hop on-off 2 rou...  \n",
       "7                  Northern Lights Trek - 4 Day Tour  \n",
       "8  Private northern lights & Glacier hiking day tour  \n",
       "9              San Francisco City Hop On and Hop Off  "
      ]
     },
     "execution_count": 12,
     "metadata": {},
     "output_type": "execute_result"
    }
   ],
   "source": [
    "clean_activities =[]\n",
    "\n",
    "for file in glob.glob(tours_json_activities_dir + '/*.json'):\n",
    "    full_json = None\n",
    "    try:\n",
    "        with open(file, \"r\") as r:\n",
    "            full_json = json.load(r)\n",
    "            \n",
    "        durationMinutes = int(full_json[\"durationMinutes\"])\n",
    "        durationHours = int(full_json[\"durationHours\"])\n",
    "        durationDays = int(full_json[\"durationDays\"])\n",
    "        durationWeeks = int(full_json[\"durationWeeks\"])\n",
    "\n",
    "        duration = durationMinutes + \\\n",
    "            durationHours *3600 + \\\n",
    "            durationDays * (3600*24) + \\\n",
    "            durationWeeks * (7*24*3600)\n",
    "        \n",
    "        activity = {\n",
    "            'title' : full_json[\"title\"],\n",
    "            'duration': duration,\n",
    "            'duration_type': full_json[\"durationType\"],\n",
    "            'level': full_json[\"difficultyLevel\"],\n",
    "            'description':full_json[\"description\"],\n",
    "            'keywords': full_json[\"keywords\"]\n",
    "        }\n",
    "        clean_activities.append(activity)\n",
    "    except json.JSONDecodeError:\n",
    "        print(\":\"*5, \"Error\", file)\n",
    "        \n",
    "act_frame =pd.DataFrame(clean_activities)\n",
    "act_frame.head(10)"
   ]
  },
  {
   "cell_type": "code",
   "execution_count": null,
   "metadata": {
    "collapsed": true
   },
   "outputs": [],
   "source": [
    "print(act_frame.level.unique())"
   ]
  },
  {
   "cell_type": "code",
   "execution_count": null,
   "metadata": {
    "collapsed": true
   },
   "outputs": [],
   "source": [
    "act_frame.level = pd.Categorical(act_frame.level, \n",
    "                                 categories = ['VERY_EASY', 'EASY' ,'MODERATE', 'CHALLENGING'], \n",
    "                                 ordered = True)"
   ]
  },
  {
   "cell_type": "code",
   "execution_count": null,
   "metadata": {
    "collapsed": true
   },
   "outputs": [],
   "source": [
    "grouped_by_level = act_frame.groupby('level')\n",
    "grouped_by_level.describe()"
   ]
  },
  {
   "cell_type": "code",
   "execution_count": null,
   "metadata": {
    "collapsed": true
   },
   "outputs": [],
   "source": [
    "sns.boxplot( y = 'duration', x='level',hue='level', data=act_frame, orient='v')\n",
    "plt.show()"
   ]
  },
  {
   "cell_type": "code",
   "execution_count": null,
   "metadata": {
    "collapsed": true
   },
   "outputs": [],
   "source": [
    "sns.swarmplot( y = 'duration', x='level',hue='level', data=act_frame, orient='v')\n",
    "plt.show()"
   ]
  },
  {
   "cell_type": "code",
   "execution_count": null,
   "metadata": {
    "collapsed": true
   },
   "outputs": [],
   "source": []
  }
 ],
 "metadata": {
  "kernelspec": {
   "display_name": "Python 3",
   "language": "python",
   "name": "python3"
  },
  "language_info": {
   "codemirror_mode": {
    "name": "ipython",
    "version": 3
   },
   "file_extension": ".py",
   "mimetype": "text/x-python",
   "name": "python",
   "nbconvert_exporter": "python",
   "pygments_lexer": "ipython3",
   "version": "3.6.1"
  }
 },
 "nbformat": 4,
 "nbformat_minor": 2
}
