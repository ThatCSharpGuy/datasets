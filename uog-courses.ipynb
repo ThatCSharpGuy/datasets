{
 "cells": [
  {
   "cell_type": "code",
   "execution_count": 9,
   "metadata": {
    "collapsed": true
   },
   "outputs": [],
   "source": [
    "import os\n",
    "import requests\n",
    "import json\n",
    "import re\n",
    "import pandas as pd\n",
    "import numpy as np\n",
    "import matplotlib.pyplot as plt\n",
    "from os.path import join\n",
    "from slugify import slugify\n",
    "from bs4 import BeautifulSoup\n",
    "from bs4.element import NavigableString\n",
    "\n",
    "base_dir = \"uog-courses\"\n",
    "if not os.path.exists(base_dir):\n",
    "    os.makedirs(base_dir)"
   ]
  },
  {
   "cell_type": "code",
   "execution_count": 2,
   "metadata": {
    "collapsed": true
   },
   "outputs": [],
   "source": [
    "browsebysubjectarea_url = \"https://www.gla.ac.uk/coursecatalogue/browsebysubjectarea/\""
   ]
  },
  {
   "cell_type": "code",
   "execution_count": 3,
   "metadata": {
    "collapsed": true
   },
   "outputs": [],
   "source": [
    "subjectareas = []\n",
    "r = requests.get(browsebysubjectarea_url)\n",
    "r_soup = BeautifulSoup(r.text, \"lxml\")\n",
    "\n",
    "maincontent = r_soup.find('div', {'class':'maincontent'})\n",
    "li_subjectareas = maincontent.find('ul').findAll('li')\n",
    "\n",
    "for li in li_subjectareas:\n",
    "    a = li.find('a')\n",
    "    subjectareas.append([a.text.strip(), a.get('href')])"
   ]
  },
  {
   "cell_type": "code",
   "execution_count": 4,
   "metadata": {
    "collapsed": true
   },
   "outputs": [],
   "source": [
    "def get_subject_code(url):\n",
    "    q_id = url.index('?') + len(\"?code=\")\n",
    "    amp_id = url.index('&', q_id)\n",
    "    return url[q_id:amp_id]\n",
    "\n",
    "subject, code = [], []\n",
    "for sa in subjectareas:\n",
    "    subject.append(sa[0])\n",
    "    code.append(get_subject_code(sa[1]))\n",
    "\n",
    "subjects = pd.DataFrame({ 'subject': subject, 'code': code })\n",
    "subjects.to_csv(join(base_dir, \"subjects.csv\"))"
   ]
  },
  {
   "cell_type": "code",
   "execution_count": 43,
   "metadata": {},
   "outputs": [
    {
     "data": {
      "text/html": [
       "<div>\n",
       "<style>\n",
       "    .dataframe thead tr:only-child th {\n",
       "        text-align: right;\n",
       "    }\n",
       "\n",
       "    .dataframe thead th {\n",
       "        text-align: left;\n",
       "    }\n",
       "\n",
       "    .dataframe tbody tr th {\n",
       "        vertical-align: top;\n",
       "    }\n",
       "</style>\n",
       "<table border=\"1\" class=\"dataframe\">\n",
       "  <thead>\n",
       "    <tr style=\"text-align: right;\">\n",
       "      <th></th>\n",
       "      <th>code</th>\n",
       "      <th>subject</th>\n",
       "    </tr>\n",
       "  </thead>\n",
       "  <tbody>\n",
       "    <tr>\n",
       "      <th>0</th>\n",
       "      <td>ACCFIN</td>\n",
       "      <td>Accounting and Finance</td>\n",
       "    </tr>\n",
       "    <tr>\n",
       "      <th>1</th>\n",
       "      <td>ADED</td>\n",
       "      <td>Adult and Continuing Education</td>\n",
       "    </tr>\n",
       "    <tr>\n",
       "      <th>2</th>\n",
       "      <td>AMERST</td>\n",
       "      <td>American Studies</td>\n",
       "    </tr>\n",
       "    <tr>\n",
       "      <th>3</th>\n",
       "      <td>ARCH</td>\n",
       "      <td>Archaeology</td>\n",
       "    </tr>\n",
       "    <tr>\n",
       "      <th>4</th>\n",
       "      <td>ARTMED</td>\n",
       "      <td>Arts and Media Informatics</td>\n",
       "    </tr>\n",
       "  </tbody>\n",
       "</table>\n",
       "</div>"
      ],
      "text/plain": [
       "     code                         subject\n",
       "0  ACCFIN          Accounting and Finance\n",
       "1    ADED  Adult and Continuing Education\n",
       "2  AMERST                American Studies\n",
       "3    ARCH                     Archaeology\n",
       "4  ARTMED      Arts and Media Informatics"
      ]
     },
     "execution_count": 43,
     "metadata": {},
     "output_type": "execute_result"
    }
   ],
   "source": [
    "subjects = pd.read_csv(join(base_dir, \"subjects.csv\"), index_col=0)\n",
    "subjects.head()"
   ]
  },
  {
   "cell_type": "code",
   "execution_count": 6,
   "metadata": {
    "collapsed": true
   },
   "outputs": [],
   "source": [
    "def get_course_code(url):\n",
    "    q_id = url.index('?') + len(\"?code=\")\n",
    "    return url[q_id:]\n",
    "\n",
    "courselist_url = \"https://www.gla.ac.uk/coursecatalogue/courselist/?code=%s\"\n",
    "subject, code = subjects['subject'].values, subjects['code'].values\n",
    "\n",
    "subs, codes, course_codes = [], [], []\n",
    "\n",
    "for s in list(zip(code, subject)):\n",
    "    url = courselist_url % s[0]\n",
    "    r = requests.get(url)\n",
    "    r_soup = BeautifulSoup(r.text, \"lxml\")\n",
    "    maincontent = r_soup.find('div', {'class':'maincontent'})\n",
    "    lis = []\n",
    "    uls = maincontent.findAll('ul')\n",
    "    for ul in uls:\n",
    "        lis.extend(ul.findAll('li'))\n",
    "    for li in lis:\n",
    "        a = li.find('a')\n",
    "        subs.append(s[0])\n",
    "        codes.append(s[1])\n",
    "        course_codes.append(get_course_code(a.get('href')))"
   ]
  },
  {
   "cell_type": "code",
   "execution_count": 12,
   "metadata": {
    "collapsed": true
   },
   "outputs": [],
   "source": [
    "with_remark = re.compile('([0-1\\w\\s\\'\\.&:\\-,\\(\\)]+)\\s\\(([0-9a-zA-Z]+)\\)\\s([A-Z0-9]+)')\n",
    "just_title = re.compile('([0-1\\w\\s\\'\\.&:\\-,\\(\\)]+)\\s([A-Z0-9]+)')\n",
    "\n",
    "course_url = \"https://www.gla.ac.uk/coursecatalogue/course/?code=%s\"\n",
    "details = []\n",
    "for code in course_codes:\n",
    "    url = course_url % code\n",
    "    r = requests.get(url)\n",
    "    r_soup = BeautifulSoup(r.text, \"lxml\")\n",
    "    maincontent = r_soup.find('div', {'class':'maincontent'})\n",
    "    course_title = maincontent.find('h1').text\n",
    "    match_with_remark = with_remark.search(course_title)\n",
    "    detail = {}\n",
    "    remark = ''\n",
    "    title = ''\n",
    "    if match_with_remark:\n",
    "        title = match_with_remark.group(1).strip()\n",
    "        remark = match_with_remark.group(2).strip()\n",
    "    else:\n",
    "        match_just_title = just_title.search(course_title)\n",
    "        if match_just_title:\n",
    "            title = match_just_title.group(1).strip()\n",
    "        else:\n",
    "            print(url)\n",
    "    detail = {slugify(a.text.split(':')[0].strip(), separator=\"_\"): a.text.split(':')[1].strip() \n",
    "              for a \n",
    "              in maincontent.find('ul').findAll('li')}\n",
    "    detail['remark'] = remark\n",
    "    detail['title'] = title\n",
    "    detail['code'] = code\n",
    "    details.append(detail)\n",
    "    \n",
    "with open(join(base_dir,'courses.json'), 'w') as outfile:\n",
    "    json.dump(details, outfile, indent=4)"
   ]
  },
  {
   "cell_type": "code",
   "execution_count": 14,
   "metadata": {},
   "outputs": [
    {
     "name": "stdout",
     "output_type": "stream",
     "text": [
      "<class 'pandas.core.frame.DataFrame'>\n",
      "RangeIndex: 5244 entries, 0 to 5243\n",
      "Data columns (total 11 columns):\n",
      "academic_session                      5244 non-null object\n",
      "available_to_erasmus_students         3650 non-null object\n",
      "available_to_visiting_students        5244 non-null object\n",
      "code                                  5244 non-null object\n",
      "credits                               5244 non-null object\n",
      "level                                 5244 non-null object\n",
      "remark                                5244 non-null object\n",
      "school                                5244 non-null object\n",
      "taught_wholly_by_distance_learning    185 non-null object\n",
      "title                                 5244 non-null object\n",
      "typically_offered                     5244 non-null object\n",
      "dtypes: object(11)\n",
      "memory usage: 450.7+ KB\n"
     ]
    }
   ],
   "source": [
    "courses_df = pd.DataFrame(details)\n",
    "courses_df.to_csv(join(base_dir,'courses_raw.csv'))\n",
    "courses_df.info()"
   ]
  },
  {
   "cell_type": "code",
   "execution_count": 51,
   "metadata": {},
   "outputs": [
    {
     "name": "stdout",
     "output_type": "stream",
     "text": [
      "<class 'pandas.core.frame.DataFrame'>\n",
      "Int64Index: 5244 entries, 0 to 5243\n",
      "Data columns (total 11 columns):\n",
      "academic_session                      5244 non-null object\n",
      "available_to_erasmus_students         5244 non-null bool\n",
      "available_to_visiting_students        5244 non-null bool\n",
      "code                                  5244 non-null object\n",
      "credits                               5244 non-null int64\n",
      "level                                 5244 non-null category\n",
      "remark                                554 non-null object\n",
      "school                                5244 non-null object\n",
      "taught_wholly_by_distance_learning    185 non-null object\n",
      "title                                 5244 non-null object\n",
      "typically_offered                     5244 non-null object\n",
      "dtypes: bool(2), category(1), int64(1), object(7)\n",
      "memory usage: 384.5+ KB\n"
     ]
    }
   ],
   "source": [
    "courses_df = pd.read_csv(join(base_dir,'courses_raw.csv'), index_col = 0)\n",
    "\n",
    "yes_transform = lambda x: x == 'Yes'\n",
    "\n",
    "courses_df.level = pd.Categorical(values=courses_df.level)\n",
    "courses_df.available_to_erasmus_students = courses_df.available_to_erasmus_students.apply(yes_transform)\n",
    "courses_df.available_to_visiting_students = courses_df.available_to_visiting_students.apply(yes_transform)\n",
    "courses_df.info()"
   ]
  },
  {
   "cell_type": "code",
   "execution_count": 54,
   "metadata": {},
   "outputs": [
    {
     "name": "stdout",
     "output_type": "stream",
     "text": [
      "<class 'pandas.core.frame.DataFrame'>\n",
      "Int64Index: 5244 entries, 0 to 5243\n",
      "Data columns (total 12 columns):\n",
      "academic_session                      5244 non-null object\n",
      "available_to_erasmus_students         5244 non-null bool\n",
      "available_to_visiting_students        5244 non-null bool\n",
      "code                                  5244 non-null object\n",
      "credits                               5244 non-null int64\n",
      "level                                 5244 non-null category\n",
      "remark                                554 non-null object\n",
      "school                                5244 non-null object\n",
      "taught_wholly_by_distance_learning    185 non-null object\n",
      "title                                 5244 non-null object\n",
      "typically_offered                     5244 non-null object\n",
      "subject                               5244 non-null category\n",
      "dtypes: bool(2), category(2), int64(1), object(7)\n",
      "memory usage: 392.6+ KB\n"
     ]
    }
   ],
   "source": [
    "reg = re.compile('([A-Z]+)')\n",
    "def get_subject(value):\n",
    "    match = reg.search(value)\n",
    "    return match.group(1)\n",
    "\n",
    "courses_df['subject'] = courses_df.code.apply(get_subject)\n",
    "courses_df['subject'] = pd.Categorical(values=courses_df.subject)\n",
    "courses_df.to_csv(join(base_dir,'courses_1.csv'))\n",
    "courses_df.info()"
   ]
  },
  {
   "cell_type": "code",
   "execution_count": 49,
   "metadata": {},
   "outputs": [
    {
     "data": {
      "text/plain": [
       "[ACCFIN, ADED, AMERST, ARCH, ARTMED, ..., TRS, UESTC, URBAN, VETSCI, VETMED]\n",
       "Length: 64\n",
       "Categories (64, object): [ACCFIN, ADED, AMERST, ARCH, ..., UESTC, URBAN, VETSCI, VETMED]"
      ]
     },
     "execution_count": 49,
     "metadata": {},
     "output_type": "execute_result"
    }
   ],
   "source": [
    "courses_df.subject.unique()"
   ]
  },
  {
   "cell_type": "code",
   "execution_count": 45,
   "metadata": {},
   "outputs": [
    {
     "data": {
      "text/html": [
       "<div>\n",
       "<style>\n",
       "    .dataframe thead tr:only-child th {\n",
       "        text-align: right;\n",
       "    }\n",
       "\n",
       "    .dataframe thead th {\n",
       "        text-align: left;\n",
       "    }\n",
       "\n",
       "    .dataframe tbody tr th {\n",
       "        vertical-align: top;\n",
       "    }\n",
       "</style>\n",
       "<table border=\"1\" class=\"dataframe\">\n",
       "  <thead>\n",
       "    <tr style=\"text-align: right;\">\n",
       "      <th></th>\n",
       "      <th>code</th>\n",
       "      <th>subject</th>\n",
       "    </tr>\n",
       "  </thead>\n",
       "  <tbody>\n",
       "    <tr>\n",
       "      <th>0</th>\n",
       "      <td>ACCFIN</td>\n",
       "      <td>Accounting and Finance</td>\n",
       "    </tr>\n",
       "    <tr>\n",
       "      <th>1</th>\n",
       "      <td>ADED</td>\n",
       "      <td>Adult and Continuing Education</td>\n",
       "    </tr>\n",
       "    <tr>\n",
       "      <th>2</th>\n",
       "      <td>AMERST</td>\n",
       "      <td>American Studies</td>\n",
       "    </tr>\n",
       "    <tr>\n",
       "      <th>3</th>\n",
       "      <td>ARCH</td>\n",
       "      <td>Archaeology</td>\n",
       "    </tr>\n",
       "    <tr>\n",
       "      <th>4</th>\n",
       "      <td>ARTMED</td>\n",
       "      <td>Arts and Media Informatics</td>\n",
       "    </tr>\n",
       "  </tbody>\n",
       "</table>\n",
       "</div>"
      ],
      "text/plain": [
       "     code                         subject\n",
       "0  ACCFIN          Accounting and Finance\n",
       "1    ADED  Adult and Continuing Education\n",
       "2  AMERST                American Studies\n",
       "3    ARCH                     Archaeology\n",
       "4  ARTMED      Arts and Media Informatics"
      ]
     },
     "execution_count": 45,
     "metadata": {},
     "output_type": "execute_result"
    }
   ],
   "source": [
    "subjects.head()"
   ]
  },
  {
   "cell_type": "code",
   "execution_count": null,
   "metadata": {
    "collapsed": true
   },
   "outputs": [],
   "source": []
  }
 ],
 "metadata": {
  "kernelspec": {
   "display_name": "Python 3",
   "language": "python",
   "name": "python3"
  },
  "language_info": {
   "codemirror_mode": {
    "name": "ipython",
    "version": 3
   },
   "file_extension": ".py",
   "mimetype": "text/x-python",
   "name": "python",
   "nbconvert_exporter": "python",
   "pygments_lexer": "ipython3",
   "version": "3.6.1"
  }
 },
 "nbformat": 4,
 "nbformat_minor": 2
}
