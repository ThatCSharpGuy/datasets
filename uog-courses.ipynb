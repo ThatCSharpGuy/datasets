{
 "cells": [
  {
   "cell_type": "code",
   "execution_count": null,
   "metadata": {
    "collapsed": true
   },
   "outputs": [],
   "source": [
    "import os\n",
    "import requests\n",
    "import json\n",
    "import re\n",
    "import pandas as pd\n",
    "import numpy as np\n",
    "import seaborn as sns\n",
    "import matplotlib.pyplot as plt\n",
    "from os.path import join\n",
    "from slugify import slugify\n",
    "from bs4 import BeautifulSoup\n",
    "from bs4.element import NavigableString\n",
    "\n",
    "base_dir = \"uog-courses\"\n",
    "if not os.path.exists(base_dir):\n",
    "    os.makedirs(base_dir)"
   ]
  },
  {
   "cell_type": "code",
   "execution_count": null,
   "metadata": {
    "collapsed": true
   },
   "outputs": [],
   "source": [
    "browsebysubjectarea_url = \"https://www.gla.ac.uk/coursecatalogue/browsebysubjectarea/\""
   ]
  },
  {
   "cell_type": "code",
   "execution_count": null,
   "metadata": {
    "collapsed": true
   },
   "outputs": [],
   "source": [
    "subjectareas = []\n",
    "r = requests.get(browsebysubjectarea_url)\n",
    "r_soup = BeautifulSoup(r.text, \"lxml\")\n",
    "\n",
    "maincontent = r_soup.find('div', {'class':'maincontent'})\n",
    "li_subjectareas = maincontent.find('ul').findAll('li')\n",
    "\n",
    "for li in li_subjectareas:\n",
    "    a = li.find('a')\n",
    "    subjectareas.append([a.text.strip(), a.get('href')])"
   ]
  },
  {
   "cell_type": "code",
   "execution_count": null,
   "metadata": {
    "collapsed": true
   },
   "outputs": [],
   "source": [
    "def get_subject_code(url):\n",
    "    q_id = url.index('?') + len(\"?code=\")\n",
    "    amp_id = url.index('&', q_id)\n",
    "    return url[q_id:amp_id]\n",
    "\n",
    "subject, code = [], []\n",
    "for sa in subjectareas:\n",
    "    subject.append(sa[0])\n",
    "    code.append(get_subject_code(sa[1]))\n",
    "\n",
    "subjects = pd.DataFrame({ 'subject': subject, 'code': code })\n",
    "subjects.to_csv(join(base_dir, \"subjects.csv\"))"
   ]
  },
  {
   "cell_type": "code",
   "execution_count": null,
   "metadata": {},
   "outputs": [],
   "source": [
    "subjects = pd.read_csv(join(base_dir, \"subjects.csv\"), index_col=0)\n",
    "subjects.head()"
   ]
  },
  {
   "cell_type": "code",
   "execution_count": null,
   "metadata": {
    "collapsed": true
   },
   "outputs": [],
   "source": [
    "def get_course_code(url):\n",
    "    q_id = url.index('?') + len(\"?code=\")\n",
    "    return url[q_id:]\n",
    "\n",
    "courselist_url = \"https://www.gla.ac.uk/coursecatalogue/courselist/?code=%s\"\n",
    "subject, code = subjects['subject'].values, subjects['code'].values\n",
    "\n",
    "subs, codes, course_codes = [], [], []\n",
    "\n",
    "for s in list(zip(code, subject)):\n",
    "    url = courselist_url % s[0]\n",
    "    r = requests.get(url)\n",
    "    r_soup = BeautifulSoup(r.text, \"lxml\")\n",
    "    maincontent = r_soup.find('div', {'class':'maincontent'})\n",
    "    lis = []\n",
    "    uls = maincontent.findAll('ul')\n",
    "    for ul in uls:\n",
    "        lis.extend(ul.findAll('li'))\n",
    "    for li in lis:\n",
    "        a = li.find('a')\n",
    "        subs.append(s[0])\n",
    "        codes.append(s[1])\n",
    "        course_codes.append(get_course_code(a.get('href')))"
   ]
  },
  {
   "cell_type": "code",
   "execution_count": null,
   "metadata": {
    "collapsed": true
   },
   "outputs": [],
   "source": [
    "with_remark = re.compile('([0-1\\w\\s\\'\\.&:\\-,\\(\\)]+)\\s\\(([0-9a-zA-Z]+)\\)\\s([A-Z0-9]+)')\n",
    "just_title = re.compile('([0-1\\w\\s\\'\\.&:\\-,\\(\\)]+)\\s([A-Z0-9]+)')\n",
    "\n",
    "course_url = \"https://www.gla.ac.uk/coursecatalogue/course/?code=%s\"\n",
    "details = []\n",
    "for code in course_codes:\n",
    "    url = course_url % code\n",
    "    r = requests.get(url)\n",
    "    r_soup = BeautifulSoup(r.text, \"lxml\")\n",
    "    maincontent = r_soup.find('div', {'class':'maincontent'})\n",
    "    course_title = maincontent.find('h1').text\n",
    "    match_with_remark = with_remark.search(course_title)\n",
    "    detail = {}\n",
    "    remark = ''\n",
    "    title = ''\n",
    "    if match_with_remark:\n",
    "        title = match_with_remark.group(1).strip()\n",
    "        remark = match_with_remark.group(2).strip()\n",
    "    else:\n",
    "        match_just_title = just_title.search(course_title)\n",
    "        if match_just_title:\n",
    "            title = match_just_title.group(1).strip()\n",
    "        else:\n",
    "            print(url)\n",
    "    detail = {slugify(a.text.split(':')[0].strip(), separator=\"_\"): a.text.split(':')[1].strip() \n",
    "              for a \n",
    "              in maincontent.find('ul').findAll('li')}\n",
    "    detail['remark'] = remark\n",
    "    detail['title'] = title\n",
    "    detail['code'] = code\n",
    "    details.append(detail)\n",
    "    \n",
    "with open(join(base_dir,'courses.json'), 'w') as outfile:\n",
    "    json.dump(details, outfile, indent=4)"
   ]
  },
  {
   "cell_type": "code",
   "execution_count": null,
   "metadata": {},
   "outputs": [],
   "source": [
    "courses_df = pd.DataFrame(details)\n",
    "courses_df.to_csv(join(base_dir,'courses_raw.csv'))\n",
    "courses_df.info()"
   ]
  },
  {
   "cell_type": "code",
   "execution_count": null,
   "metadata": {},
   "outputs": [],
   "source": [
    "courses_df = pd.read_csv(join(base_dir,'courses_raw.csv'), index_col = 0)\n",
    "\n",
    "yes_transform = lambda x: x == 'Yes'\n",
    "\n",
    "courses_df.level = pd.Categorical(values=courses_df.level, categories=[\"Level 1 (SCQF level 7)\", \n",
    "                                                                       \"Level 2 (SCQF level 8)\", \n",
    "                                                                       \"Level 3 (SCQF level 9)\",\n",
    "                                                                       \"Level 4 (SCQF level 10)\",\n",
    "                                                                       \"Level 4 (BDS, BVMS, MBChB)\",\n",
    "                                                                       \"Level 5 (SCQF level 11)\",  \n",
    "                                                                       \"Level 5 (BDS, BVMS, MBChB)\", \n",
    "                                                                       \"Level 6 (SCQF level 12)\"], ordered=True)\n",
    "courses_df.school = pd.Categorical(values=courses_df.school)\n",
    "courses_df.available_to_erasmus_students = courses_df.available_to_erasmus_students.apply(yes_transform)\n",
    "courses_df.available_to_visiting_students = courses_df.available_to_visiting_students.apply(yes_transform)\n",
    "courses_df.info()"
   ]
  },
  {
   "cell_type": "code",
   "execution_count": null,
   "metadata": {},
   "outputs": [],
   "source": [
    "reg = re.compile('([A-Z]+)')\n",
    "def get_subject(value):\n",
    "    match = reg.search(value)\n",
    "    return match.group(1)\n",
    "\n",
    "courses_df['subject'] = courses_df.code.apply(get_subject)\n",
    "courses_df['subject'] = pd.Categorical(values=courses_df.subject)\n",
    "courses_df.to_csv(join(base_dir,'courses_1.csv'))\n",
    "courses_df.info()"
   ]
  },
  {
   "cell_type": "code",
   "execution_count": null,
   "metadata": {},
   "outputs": [],
   "source": [
    "unique_levels = courses_df.level.unique()\n",
    "print(unique_levels)"
   ]
  },
  {
   "cell_type": "code",
   "execution_count": null,
   "metadata": {},
   "outputs": [],
   "source": [
    "course_counts = courses_df[['subject','level','code']]\n",
    "course_counts = course_counts.sort_values(by='subject')\n",
    "subjects = subjects.sort_values(by='code')\n",
    "\n",
    "print(subjects.head())\n",
    "print(course_counts.head())"
   ]
  },
  {
   "cell_type": "code",
   "execution_count": null,
   "metadata": {},
   "outputs": [],
   "source": [
    "pivoted = pd.pivot_table(course_counts, \n",
    "                         index='subject', \n",
    "                         columns='level', \n",
    "                         values='code', \n",
    "                         aggfunc='count',\n",
    "                         fill_value=0)\n",
    "\n",
    "fig, ax = plt.subplots(figsize=(10,25))        \n",
    "sns.heatmap(pivoted, annot=True, fmt=\"g\", cmap='viridis', ax=ax)\n",
    "ax.xaxis.tick_top()\n",
    "plt.xticks(rotation='vertical')\n",
    "plt.show()"
   ]
  },
  {
   "cell_type": "code",
   "execution_count": null,
   "metadata": {
    "collapsed": true
   },
   "outputs": [],
   "source": []
  }
 ],
 "metadata": {
  "kernelspec": {
   "display_name": "Python 3",
   "language": "python",
   "name": "python3"
  },
  "language_info": {
   "codemirror_mode": {
    "name": "ipython",
    "version": 3
   },
   "file_extension": ".py",
   "mimetype": "text/x-python",
   "name": "python",
   "nbconvert_exporter": "python",
   "pygments_lexer": "ipython3",
   "version": "3.6.1"
  }
 },
 "nbformat": 4,
 "nbformat_minor": 2
}
