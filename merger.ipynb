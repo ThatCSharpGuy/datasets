{
 "cells": [
  {
   "cell_type": "code",
   "execution_count": 1,
   "metadata": {
    "collapsed": true
   },
   "outputs": [],
   "source": [
    "import json\n",
    "from glob import glob\n",
    "\n",
    "from jsontools.merger import merge_files"
   ]
  },
  {
   "cell_type": "code",
   "execution_count": 2,
   "metadata": {
    "collapsed": true
   },
   "outputs": [],
   "source": [
    "def clean_item(item):\n",
    "    should_add = False\n",
    "    if len(item['text']) > 100:\n",
    "        share_message = \"\\nShare this: Twitter\\nFacebook\\nReddit\\nTumblr\\nGoogle\\nMore\\nEmail\\nPrint\\nLinkedIn\\nPinterest\\nPocket\"\n",
    "        email_message = \"Send to Email Address\"\n",
    "        text = item['text'][-len(share_message):]\n",
    "        should_add = True\n",
    "        if text == share_message:\n",
    "            item['text'] = item['text'][:-len(share_message)]\n",
    "        elif item['text'].startswith(email_message):\n",
    "            should_add = False\n",
    "    if should_add:\n",
    "        del item['title_rss'], item['title_page']\n",
    "        del item['localpath'], item['filename']\n",
    "        del item['description'], item['date_modify'], item['date_download']\n",
    "    return should_add, item"
   ]
  },
  {
   "cell_type": "code",
   "execution_count": 3,
   "metadata": {
    "scrolled": false
   },
   "outputs": [
    {
     "name": "stdout",
     "output_type": "stream",
     "text": [
      "10\n"
     ]
    }
   ],
   "source": [
    "with open(r\"C:\\Users\\anton\\Dropbox\\mac-win\\0134.txt\", \"r\") as r:\n",
    "    document = json.load(r)\n",
    "    print(len(document))\n",
    "    for d in document:\n",
    "        add, new_item = clean_item(d)"
   ]
  },
  {
   "cell_type": "code",
   "execution_count": 27,
   "metadata": {},
   "outputs": [],
   "source": [
    "from os.path import join, exists\n",
    "\n",
    "for year in range(2011, 2018):\n",
    "    output_folder = r\"C:\\Users\\anton\\Downloads\\yearly\\%d\"\n",
    "    of = r\"C:\\Users\\anton\\Downloads\\yearly\\%d\" % year\n",
    "    ofile = r\"C:\\Users\\anton\\Downloads\\yearly\\%d.json\" % year\n",
    "    ifile = join(of, \"*[0-9][0-9].json\")\n",
    "    merge_files(ifile, ofile)\n",
    "\n",
    "    \n",
    "    #input_file = r\"C:\\Users\\anton\\Documents\\erre_mexico\\mexico_subs*.json\"\n",
    "    #output_file = r\"C:\\Users\\anton\\Documents\\erre_mexico\\full\\mexico.json\"\n",
    "    \n",
    "    #number = merge_files(input_file, output_file)\n",
    "    #print(number)"
   ]
  },
  {
   "cell_type": "code",
   "execution_count": null,
   "metadata": {
    "collapsed": true
   },
   "outputs": [],
   "source": []
  }
 ],
 "metadata": {
  "kernelspec": {
   "display_name": "Python 3",
   "language": "python",
   "name": "python3"
  },
  "language_info": {
   "codemirror_mode": {
    "name": "ipython",
    "version": 3
   },
   "file_extension": ".py",
   "mimetype": "text/x-python",
   "name": "python",
   "nbconvert_exporter": "python",
   "pygments_lexer": "ipython3",
   "version": "3.6.2"
  }
 },
 "nbformat": 4,
 "nbformat_minor": 2
}
