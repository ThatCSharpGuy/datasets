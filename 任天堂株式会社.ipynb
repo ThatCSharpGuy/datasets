{
 "cells": [
  {
   "cell_type": "code",
   "execution_count": null,
   "metadata": {
    "collapsed": true
   },
   "outputs": [],
   "source": [
    "import os\n",
    "import requests\n",
    "import json\n",
    "import re\n",
    "import time\n",
    "import glob\n",
    "import datetime\n",
    "import matplotlib.pyplot as plt\n",
    "import pandas as pd\n",
    "import numpy as np\n",
    "from os.path import join\n",
    "from slugify import slugify\n",
    "from bs4 import BeautifulSoup\n",
    "from bs4.element import NavigableString\n",
    "from urllib.parse import urlparse, parse_qs\n",
    "\n",
    "base_dir = \"任天堂株式会社\"\n",
    "if not os.path.exists(base_dir):\n",
    "    os.makedirs(base_dir)"
   ]
  },
  {
   "cell_type": "code",
   "execution_count": null,
   "metadata": {
    "collapsed": true
   },
   "outputs": [],
   "source": [
    "def fn(d, s):\n",
    "    fl = \"item-%d-%d.json\" % (s+1, s + rows)\n",
    "    return join(d,fl)"
   ]
  },
  {
   "cell_type": "code",
   "execution_count": null,
   "metadata": {
    "collapsed": true
   },
   "outputs": [],
   "source": [
    "# Nintendo EU\n",
    "start = 0\n",
    "rows = 200\n",
    "parameters = {\n",
    "    'q':'*',\n",
    "    'fq':'',\n",
    "    'sort': 'date_from desc',\n",
    "    'start': start,\n",
    "    'rows': rows,\n",
    "    'wt': 'json'\n",
    "}\n",
    "languages = ['es', 'en', 'it', 'fr', 'de']\n",
    "original_url = \"https://search.nintendo-europe.com/%s/select\""
   ]
  },
  {
   "cell_type": "code",
   "execution_count": null,
   "metadata": {
    "scrolled": true
   },
   "outputs": [],
   "source": [
    "for language in languages:\n",
    "    print(\"Language\", language)\n",
    "    url = original_url % language\n",
    "    folder = join(base_dir, language)\n",
    "    if not os.path.exists(folder):\n",
    "        os.makedirs(folder)\n",
    "        \n",
    "    start = 0\n",
    "    rows = 300\n",
    "    parameters['rows'] = rows\n",
    "    \n",
    "    request = requests.get(url, parameters)\n",
    "    data = json.loads(request.text)\n",
    "    \n",
    "    total = int(data[\"response\"][\"numFound\"])\n",
    "    \n",
    "    with open(fn(folder, start), \"w\") as f:\n",
    "        json.dump(data, f)\n",
    "    \n",
    "    while start <= total:\n",
    "        if start % 500 == 0:\n",
    "            print(\"Item\", start)\n",
    "        start = start + rows\n",
    "        parameters['start'] = start\n",
    "        \n",
    "        \n",
    "        request = requests.get(url, parameters)\n",
    "        data = json.loads(request.text)\n",
    "        \n",
    "        with open(fn(folder, start), \"w\") as f:\n",
    "            json.dump(data, f)"
   ]
  },
  {
   "cell_type": "code",
   "execution_count": null,
   "metadata": {
    "collapsed": true
   },
   "outputs": [],
   "source": [
    "# Nintendo US\n",
    "start = 0\n",
    "rows = 300\n",
    "parameters = {\n",
    "    'limit': rows,\n",
    "    'offset': start,\n",
    "    'sort': 'featured',\n",
    "    'direction':'des'\n",
    "}\n",
    "original_url = \"https://www.nintendo.com/json/content/get/filter/game\""
   ]
  },
  {
   "cell_type": "code",
   "execution_count": null,
   "metadata": {},
   "outputs": [],
   "source": [
    "language = \"us\"\n",
    "print(\"Language\", language)\n",
    "url = original_url\n",
    "folder = join(base_dir, language)\n",
    "if not os.path.exists(folder):\n",
    "    os.makedirs(folder)\n",
    "\n",
    "start = 0\n",
    "rows = 300\n",
    "parameters['limit'] = rows\n",
    "\n",
    "request = requests.get(url, parameters)\n",
    "data = json.loads(request.text)\n",
    "\n",
    "total = int(data[\"filter\"][\"total\"])\n",
    "\n",
    "with open(fn(folder, start), \"w\") as f:\n",
    "    json.dump(data, f)\n",
    "\n",
    "while start <= total:\n",
    "    if start % 500 == 0:\n",
    "        print(\"Item\", start)\n",
    "    start = start + rows\n",
    "    parameters['offset'] = start\n",
    "\n",
    "\n",
    "    request = requests.get(url, parameters)\n",
    "    data = json.loads(request.text)\n",
    "\n",
    "    with open(fn(folder, start), \"w\") as f:\n",
    "        json.dump(data, f)"
   ]
  },
  {
   "cell_type": "code",
   "execution_count": null,
   "metadata": {
    "collapsed": true
   },
   "outputs": [],
   "source": []
  }
 ],
 "metadata": {
  "kernelspec": {
   "display_name": "Python 3",
   "language": "python",
   "name": "python3"
  },
  "language_info": {
   "codemirror_mode": {
    "name": "ipython",
    "version": 3
   },
   "file_extension": ".py",
   "mimetype": "text/x-python",
   "name": "python",
   "nbconvert_exporter": "python",
   "pygments_lexer": "ipython3",
   "version": "3.6.2"
  }
 },
 "nbformat": 4,
 "nbformat_minor": 2
}
