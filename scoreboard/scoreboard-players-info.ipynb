{
 "cells": [
  {
   "cell_type": "code",
   "execution_count": 29,
   "metadata": {},
   "outputs": [],
   "source": [
    "from glob import glob\n",
    "from bs4 import BeautifulSoup\n",
    "from datetime import date,timedelta"
   ]
  },
  {
   "cell_type": "code",
   "execution_count": 31,
   "metadata": {},
   "outputs": [
    {
     "name": "stdout",
     "output_type": "stream",
     "text": [
      "1993-10-09\n",
      "1995-03-28\n",
      "2000-11-24\n",
      "1966-07-29\n",
      "1992-09-10\n",
      "1998-10-24\n",
      "1995-07-16\n"
     ]
    }
   ],
   "source": [
    "for f in glob(\"*.html\"):\n",
    "    with open(f, \"r\", encoding='utf-8') as r:\n",
    "        player_soup = BeautifulSoup(r, \"html5lib\")\n",
    "    player_page = player_soup.find('div', {'id':'fsbody'})\n",
    "    player_birthdate = player_page.find('div',  {'class':'player-birthdate'})\n",
    "    if player_birthdate:\n",
    "        timestamp = int(player_birthdate.find('script').text[36:-3])\n",
    "    \n",
    "        if timestamp < 0:\n",
    "            dob = date(1970, 1, 1) + timedelta(seconds=timestamp)\n",
    "        else:\n",
    "            dob = date.fromtimestamp(timestamp)\n",
    "        print(dob)"
   ]
  },
  {
   "cell_type": "code",
   "execution_count": null,
   "metadata": {},
   "outputs": [],
   "source": []
  }
 ],
 "metadata": {
  "kernelspec": {
   "display_name": "Python 3",
   "language": "python",
   "name": "python3"
  },
  "language_info": {
   "codemirror_mode": {
    "name": "ipython",
    "version": 3
   },
   "file_extension": ".py",
   "mimetype": "text/x-python",
   "name": "python",
   "nbconvert_exporter": "python",
   "pygments_lexer": "ipython3",
   "version": "3.6.5"
  }
 },
 "nbformat": 4,
 "nbformat_minor": 2
}
