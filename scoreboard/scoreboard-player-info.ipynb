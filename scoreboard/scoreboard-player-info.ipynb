{
 "cells": [
  {
   "cell_type": "code",
<<<<<<< HEAD
   "execution_count": 46,
=======
   "execution_count": 1,
>>>>>>> 5d3ae95435ef78ee10f708cf8b18367657f39b7c
   "metadata": {},
   "outputs": [],
   "source": [
    "import pandas as pd\n",
<<<<<<< HEAD
    "import requests\n",
    "import datetime\n",
    "import os\n",
    "from bs4 import BeautifulSoup\n",
    "\n",
    "players_path = \"webs\""
=======
    "import datetime\n",
    "import os\n",
    "import sys\n",
    "from datetime import date,timedelta\n",
    "from bs4 import BeautifulSoup\n",
    "\n",
    "players_path = r\"C:\\Corpora\\scoreboard\\Players\\www.scoreboard.com\\player\""
>>>>>>> 5d3ae95435ef78ee10f708cf8b18367657f39b7c
   ]
  },
  {
   "cell_type": "code",
<<<<<<< HEAD
   "execution_count": 61,
=======
   "execution_count": 2,
>>>>>>> 5d3ae95435ef78ee10f708cf8b18367657f39b7c
   "metadata": {},
   "outputs": [],
   "source": [
    "def get_transfers(soup):\n",
    "    transfers = []\n",
    "    trasnfer_table = soup.find('table', {'class': 'base-table transfer-table'})\n",
    "    if not trasnfer_table: return transfers\n",
    "    trs = trasnfer_table.find('tbody').findAll('tr')\n",
    "\n",
    "    for tr in trs:\n",
    "        tds = tr.findAll('td')\n",
<<<<<<< HEAD
=======
    "        if len(tds) != 4: continue\n",
>>>>>>> 5d3ae95435ef78ee10f708cf8b18367657f39b7c
    "        date = datetime.datetime.strptime( tds[0].text, \"%b %d, %y\" )\n",
    "\n",
    "        from_a = tds[1].find('a')\n",
    "        from_href = from_a[\"href\"][6:-1].replace(\"/\",\"_\")\n",
    "\n",
    "        to_a = tds[2].find('a')\n",
    "        to_href = to_a[\"href\"][6:-1].replace(\"/\",\"_\")\n",
    "\n",
    "        reason = tds[3].text\n",
    "\n",
    "        transfers.append([player_id, date, from_href, to_href, reason])\n",
    "    return transfers"
   ]
  },
  {
   "cell_type": "code",
<<<<<<< HEAD
   "execution_count": 64,
   "metadata": {},
   "outputs": [
    {
     "data": {
      "text/html": [
       "<div>\n",
       "<style scoped>\n",
       "    .dataframe tbody tr th:only-of-type {\n",
       "        vertical-align: middle;\n",
       "    }\n",
       "\n",
       "    .dataframe tbody tr th {\n",
       "        vertical-align: top;\n",
       "    }\n",
       "\n",
       "    .dataframe thead th {\n",
       "        text-align: right;\n",
       "    }\n",
       "</style>\n",
       "<table border=\"1\" class=\"dataframe\">\n",
       "  <thead>\n",
       "    <tr style=\"text-align: right;\">\n",
       "      <th></th>\n",
       "      <th>player_id</th>\n",
       "      <th>date</th>\n",
       "      <th>from</th>\n",
       "      <th>to</th>\n",
       "      <th>reason</th>\n",
       "    </tr>\n",
       "  </thead>\n",
       "  <tbody>\n",
       "    <tr>\n",
       "      <th>0</th>\n",
       "      <td>menez-jeremy_A10nmDRJ</td>\n",
       "      <td>2018-01-05</td>\n",
       "      <td>antalyaspor_GAtxDHF9</td>\n",
       "      <td>club-america_vyrswtJm</td>\n",
       "      <td>Transfer</td>\n",
       "    </tr>\n",
       "    <tr>\n",
       "      <th>1</th>\n",
       "      <td>menez-jeremy_A10nmDRJ</td>\n",
       "      <td>2017-07-01</td>\n",
       "      <td>bordeaux_SKc9FeQ7</td>\n",
       "      <td>antalyaspor_GAtxDHF9</td>\n",
       "      <td>Transfer</td>\n",
       "    </tr>\n",
       "    <tr>\n",
       "      <th>2</th>\n",
       "      <td>menez-jeremy_A10nmDRJ</td>\n",
       "      <td>2016-08-01</td>\n",
       "      <td>ac-milan_8Sa8HInO</td>\n",
       "      <td>bordeaux_SKc9FeQ7</td>\n",
       "      <td>Free agent</td>\n",
       "    </tr>\n",
       "    <tr>\n",
       "      <th>3</th>\n",
       "      <td>menez-jeremy_A10nmDRJ</td>\n",
       "      <td>2014-07-01</td>\n",
       "      <td>paris-sg_CjhkPw0k</td>\n",
       "      <td>ac-milan_8Sa8HInO</td>\n",
       "      <td>Free agent</td>\n",
       "    </tr>\n",
       "    <tr>\n",
       "      <th>4</th>\n",
       "      <td>menez-jeremy_A10nmDRJ</td>\n",
       "      <td>2011-07-25</td>\n",
       "      <td>as-roma_zVqqL0ma</td>\n",
       "      <td>paris-sg_CjhkPw0k</td>\n",
       "      <td>Transfer</td>\n",
       "    </tr>\n",
       "    <tr>\n",
       "      <th>5</th>\n",
       "      <td>menez-jeremy_A10nmDRJ</td>\n",
       "      <td>2008-08-27</td>\n",
       "      <td>monaco_2PIvr8o4</td>\n",
       "      <td>as-roma_zVqqL0ma</td>\n",
       "      <td>Transfer</td>\n",
       "    </tr>\n",
       "    <tr>\n",
       "      <th>6</th>\n",
       "      <td>menez-jeremy_A10nmDRJ</td>\n",
       "      <td>2006-07-01</td>\n",
       "      <td>sochaux_jPojkLXK</td>\n",
       "      <td>monaco_2PIvr8o4</td>\n",
       "      <td>Transfer</td>\n",
       "    </tr>\n",
       "    <tr>\n",
       "      <th>7</th>\n",
       "      <td>jimenez-oscar_tOvSCmQb</td>\n",
       "      <td>2017-01-01</td>\n",
       "      <td>jaguares-de-chiapas_CdS3LvlD</td>\n",
       "      <td>club-america_vyrswtJm</td>\n",
       "      <td>?</td>\n",
       "    </tr>\n",
       "    <tr>\n",
       "      <th>8</th>\n",
       "      <td>jimenez-oscar_tOvSCmQb</td>\n",
       "      <td>2013-07-01</td>\n",
       "      <td>lobos-buap_Umprep5l</td>\n",
       "      <td>jaguares-de-chiapas_CdS3LvlD</td>\n",
       "      <td>?</td>\n",
       "    </tr>\n",
       "    <tr>\n",
       "      <th>9</th>\n",
       "      <td>jimenez-oscar_tOvSCmQb</td>\n",
       "      <td>2010-01-01</td>\n",
       "      <td>indios_hx4gdV7G</td>\n",
       "      <td>lobos-buap_Umprep5l</td>\n",
       "      <td>?</td>\n",
       "    </tr>\n",
       "  </tbody>\n",
       "</table>\n",
       "</div>"
      ],
      "text/plain": [
       "                player_id       date                          from  \\\n",
       "0   menez-jeremy_A10nmDRJ 2018-01-05          antalyaspor_GAtxDHF9   \n",
       "1   menez-jeremy_A10nmDRJ 2017-07-01             bordeaux_SKc9FeQ7   \n",
       "2   menez-jeremy_A10nmDRJ 2016-08-01             ac-milan_8Sa8HInO   \n",
       "3   menez-jeremy_A10nmDRJ 2014-07-01             paris-sg_CjhkPw0k   \n",
       "4   menez-jeremy_A10nmDRJ 2011-07-25              as-roma_zVqqL0ma   \n",
       "5   menez-jeremy_A10nmDRJ 2008-08-27               monaco_2PIvr8o4   \n",
       "6   menez-jeremy_A10nmDRJ 2006-07-01              sochaux_jPojkLXK   \n",
       "7  jimenez-oscar_tOvSCmQb 2017-01-01  jaguares-de-chiapas_CdS3LvlD   \n",
       "8  jimenez-oscar_tOvSCmQb 2013-07-01           lobos-buap_Umprep5l   \n",
       "9  jimenez-oscar_tOvSCmQb 2010-01-01               indios_hx4gdV7G   \n",
       "\n",
       "                             to      reason  \n",
       "0         club-america_vyrswtJm    Transfer  \n",
       "1          antalyaspor_GAtxDHF9    Transfer  \n",
       "2             bordeaux_SKc9FeQ7  Free agent  \n",
       "3             ac-milan_8Sa8HInO  Free agent  \n",
       "4             paris-sg_CjhkPw0k    Transfer  \n",
       "5              as-roma_zVqqL0ma    Transfer  \n",
       "6               monaco_2PIvr8o4    Transfer  \n",
       "7         club-america_vyrswtJm           ?  \n",
       "8  jaguares-de-chiapas_CdS3LvlD           ?  \n",
       "9           lobos-buap_Umprep5l           ?  "
      ]
     },
     "execution_count": 64,
     "metadata": {},
     "output_type": "execute_result"
    }
   ],
   "source": [
    "transfers = []\n",
=======
   "execution_count": 3,
   "metadata": {},
   "outputs": [],
   "source": [
    "def get_injuries(soup):\n",
    "    \n",
    "    inj = []\n",
    "    trasnfer_table = soup.find('table', {'class': 'base-table injury-history-table'})\n",
    "    if not trasnfer_table: return inj\n",
    "    trs = trasnfer_table.find('tbody').findAll('tr')\n",
    "\n",
    "    for tr in trs:\n",
    "        tds = tr.findAll('td')\n",
    "        if len(tds) != 3: continue\n",
    "        date_from = datetime.datetime.strptime( tds[0].text, \"%b %d, %y\" )\n",
    "        \n",
    "        date_to:datetime = None\n",
    "        try:\n",
    "            date_to = datetime.datetime.strptime( tds[1].text, \"%b %d, %y\" )\n",
    "        except:\n",
    "            pass\n",
    "        \n",
    "        reason = tds[2].text\n",
    "\n",
    "        inj.append([player_id, date_from, date_to, reason])\n",
    "    return inj"
   ]
  },
  {
   "cell_type": "code",
   "execution_count": 4,
   "metadata": {},
   "outputs": [],
   "source": [
    "def get_dobs(player_soup):\n",
    "    player_page = player_soup.find('div', {'id':'fsbody'})\n",
    "    player_birthdate = player_page.find('div',  {'class':'player-birthdate'})\n",
    "    if player_birthdate:\n",
    "        timestamp = int(player_birthdate.find('script').text[36:-3])\n",
    "    \n",
    "        if timestamp < 0:\n",
    "            dob = date(1970, 1, 1) + timedelta(seconds=timestamp)\n",
    "        else:\n",
    "            dob = date.fromtimestamp(timestamp)\n",
    "        return dob\n",
    "    return None"
   ]
  },
  {
   "cell_type": "code",
   "execution_count": 5,
   "metadata": {},
   "outputs": [],
   "source": [
    "transfers = []\n",
    "dobs = []\n",
    "injuries = []\n",
    "errs = []\n",
>>>>>>> 5d3ae95435ef78ee10f708cf8b18367657f39b7c
    "for dirname, dirnames, filenames in os.walk(players_path):\n",
    "    # print path to all filenames.\n",
    "    for filename in filenames:\n",
    "        if filename.endswith(\".html\"):\n",
<<<<<<< HEAD
    "            player_id = dirname[5:].replace(\"/\",\"_\")\n",
    "            transfer_soup:BeautifulSoup = None\n",
    "                \n",
    "            with open(os.path.join(dirname, filename), \"r\") as r:\n",
    "                transfer_soup = BeautifulSoup(r, \"lxml\")\n",
    "            transfers.extend(get_transfers(transfer_soup))\n",
    "            \n",
    "\n",
    "transfers_df = pd.DataFrame(transfers, columns=['player_id', 'date', 'from', 'to', 'reason'])\n",
    "transfers_df       "
=======
    "            player_id = dirname[len(players_path) + 1:].replace(\"\\\\\",\"_\")\n",
    "            transfer_soup:BeautifulSoup = None\n",
    "                \n",
    "            with open(os.path.join(dirname, filename), \"r\", encoding='utf8') as r:\n",
    "                transfer_soup = BeautifulSoup(r, \"lxml\")\n",
    "            \n",
    "            try:\n",
    "                player_type_name = transfer_soup.find('div',  {'class':'player-type-name'}).text.strip()\n",
    "            except:\n",
    "                player_type_name = \"\"\n",
    "            \n",
    "            try:\n",
    "                dobs.append([player_id, get_dobs(transfer_soup)])\n",
    "                transfers.extend(get_transfers(transfer_soup))\n",
    "                injuries.extend(get_injuries(transfer_soup))\n",
    "            except:\n",
    "                ve = sys.exc_info()[0]\n",
    "                if player_type_name != \"Coach\":\n",
    "                    errs.append([os.path.join(dirname, filename), str(ve)])\n",
    "                \n",
    "\n",
    "ages_df = pd.DataFrame(dobs, columns=['player_id', 'dob'])\n",
    "transfers_df = pd.DataFrame(transfers, columns=['player_id', 'date', 'from', 'to', 'reason'])\n",
    "injuries_df = pd.DataFrame(injuries, columns=['player_id','from', 'to', 'reason'])"
>>>>>>> 5d3ae95435ef78ee10f708cf8b18367657f39b7c
   ]
  },
  {
   "cell_type": "code",
<<<<<<< HEAD
   "execution_count": 65,
   "metadata": {},
   "outputs": [],
   "source": [
    "transfers_df.to_csv(\"transfers.csv\")"
=======
   "execution_count": 10,
   "metadata": {},
   "outputs": [
    {
     "name": "stdout",
     "output_type": "stream",
     "text": [
      "190862\n",
      "55762\n",
      "17064\n"
     ]
    }
   ],
   "source": [
    "print(len(transfers_df))\n",
    "transfers_df.to_csv(\"transfers.csv\")\n",
    "print(len(ages_df))\n",
    "ages_df.to_csv(\"dobs.csv\")\n",
    "print(len(injuries_df))\n",
    "injuries_df.to_csv(\"injuries.csv\")"
>>>>>>> 5d3ae95435ef78ee10f708cf8b18367657f39b7c
   ]
  },
  {
   "cell_type": "code",
   "execution_count": null,
   "metadata": {},
   "outputs": [],
   "source": []
  }
 ],
 "metadata": {
  "kernelspec": {
   "display_name": "Python 3",
   "language": "python",
   "name": "python3"
  },
  "language_info": {
   "codemirror_mode": {
    "name": "ipython",
    "version": 3
   },
   "file_extension": ".py",
   "mimetype": "text/x-python",
   "name": "python",
   "nbconvert_exporter": "python",
   "pygments_lexer": "ipython3",
   "version": "3.6.5"
  }
 },
 "nbformat": 4,
 "nbformat_minor": 2
}
