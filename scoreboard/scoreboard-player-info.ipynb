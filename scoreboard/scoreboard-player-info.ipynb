{
 "cells": [
  {
   "cell_type": "code",
   "execution_count": 1,
   "metadata": {},
   "outputs": [],
   "source": [
    "import pandas as pd\n",
    "import datetime\n",
    "import os\n",
    "import sys\n",
    "from datetime import date,timedelta\n",
    "from bs4 import BeautifulSoup\n",
    "\n",
    "players_path = r\"C:\\Corpora\\scoreboard\\Players\\www.scoreboard.com\\player\""
   ]
  },
  {
   "cell_type": "code",
   "execution_count": 2,
   "metadata": {},
   "outputs": [],
   "source": [
    "def get_transfers(soup):\n",
    "    transfers = []\n",
    "    trasnfer_table = soup.find('table', {'class': 'base-table transfer-table'})\n",
    "    if not trasnfer_table: return transfers\n",
    "    trs = trasnfer_table.find('tbody').findAll('tr')\n",
    "\n",
    "    for tr in trs:\n",
    "        tds = tr.findAll('td')\n",
    "        if len(tds) != 4: continue\n",
    "        date = datetime.datetime.strptime( tds[0].text, \"%b %d, %y\" )\n",
    "\n",
    "        from_a = tds[1].find('a')\n",
    "        from_href = from_a[\"href\"][6:-1].replace(\"/\",\"_\")\n",
    "\n",
    "        to_a = tds[2].find('a')\n",
    "        to_href = to_a[\"href\"][6:-1].replace(\"/\",\"_\")\n",
    "\n",
    "        reason = tds[3].text\n",
    "\n",
    "        transfers.append([player_id, date, from_href, to_href, reason])\n",
    "    return transfers"
   ]
  },
  {
   "cell_type": "code",
   "execution_count": 3,
   "metadata": {},
   "outputs": [],
   "source": [
    "def get_injuries(soup):\n",
    "    \n",
    "    inj = []\n",
    "    trasnfer_table = soup.find('table', {'class': 'base-table injury-history-table'})\n",
    "    if not trasnfer_table: return inj\n",
    "    trs = trasnfer_table.find('tbody').findAll('tr')\n",
    "\n",
    "    for tr in trs:\n",
    "        tds = tr.findAll('td')\n",
    "        if len(tds) != 3: continue\n",
    "        date_from = datetime.datetime.strptime( tds[0].text, \"%b %d, %y\" )\n",
    "        \n",
    "        date_to:datetime = None\n",
    "        try:\n",
    "            date_to = datetime.datetime.strptime( tds[1].text, \"%b %d, %y\" )\n",
    "        except:\n",
    "            pass\n",
    "        \n",
    "        reason = tds[2].text\n",
    "\n",
    "        inj.append([player_id, date_from, date_to, reason])\n",
    "    return inj"
   ]
  },
  {
   "cell_type": "code",
   "execution_count": 4,
   "metadata": {},
   "outputs": [],
   "source": [
    "def get_dobs(player_soup):\n",
    "    player_page = player_soup.find('div', {'id':'fsbody'})\n",
    "    player_birthdate = player_page.find('div',  {'class':'player-birthdate'})\n",
    "    if player_birthdate:\n",
    "        timestamp = int(player_birthdate.find('script').text[36:-3])\n",
    "    \n",
    "        if timestamp < 0:\n",
    "            dob = date(1970, 1, 1) + timedelta(seconds=timestamp)\n",
    "        else:\n",
    "            dob = date.fromtimestamp(timestamp)\n",
    "        return dob\n",
    "    return None"
   ]
  },
  {
   "cell_type": "code",
   "execution_count": 5,
   "metadata": {},
   "outputs": [],
   "source": [
    "transfers = []\n",
    "dobs = []\n",
    "injuries = []\n",
    "errs = []\n",
    "for dirname, dirnames, filenames in os.walk(players_path):\n",
    "    # print path to all filenames.\n",
    "    for filename in filenames:\n",
    "        if filename.endswith(\".html\"):\n",
    "            player_id = dirname[len(players_path) + 1:].replace(\"\\\\\",\"_\")\n",
    "            transfer_soup:BeautifulSoup = None\n",
    "                \n",
    "            with open(os.path.join(dirname, filename), \"r\", encoding='utf8') as r:\n",
    "                transfer_soup = BeautifulSoup(r, \"lxml\")\n",
    "            \n",
    "            try:\n",
    "                player_type_name = transfer_soup.find('div',  {'class':'player-type-name'}).text.strip()\n",
    "            except:\n",
    "                player_type_name = \"\"\n",
    "            \n",
    "            try:\n",
    "                dobs.append([player_id, get_dobs(transfer_soup)])\n",
    "                transfers.extend(get_transfers(transfer_soup))\n",
    "                injuries.extend(get_injuries(transfer_soup))\n",
    "            except:\n",
    "                ve = sys.exc_info()[0]\n",
    "                if player_type_name != \"Coach\":\n",
    "                    errs.append([os.path.join(dirname, filename), str(ve)])\n",
    "                \n",
    "\n",
    "ages_df = pd.DataFrame(dobs, columns=['player_id', 'dob'])\n",
    "transfers_df = pd.DataFrame(transfers, columns=['player_id', 'date', 'from', 'to', 'reason'])\n",
    "injuries_df = pd.DataFrame(injuries, columns=['player_id','from', 'to', 'reason'])"
   ]
  },
  {
   "cell_type": "code",
   "execution_count": 10,
   "metadata": {},
   "outputs": [
    {
     "name": "stdout",
     "output_type": "stream",
     "text": [
      "190862\n",
      "55762\n",
      "17064\n"
     ]
    }
   ],
   "source": [
    "print(len(transfers_df))\n",
    "transfers_df.to_csv(\"transfers.csv\")\n",
    "print(len(ages_df))\n",
    "ages_df.to_csv(\"dobs.csv\")\n",
    "print(len(injuries_df))\n",
    "injuries_df.to_csv(\"injuries.csv\")"
   ]
  },
  {
   "cell_type": "code",
   "execution_count": null,
   "metadata": {},
   "outputs": [],
   "source": []
  }
 ],
 "metadata": {
  "kernelspec": {
   "display_name": "Python 3",
   "language": "python",
   "name": "python3"
  },
  "language_info": {
   "codemirror_mode": {
    "name": "ipython",
    "version": 3
   },
   "file_extension": ".py",
   "mimetype": "text/x-python",
   "name": "python",
   "nbconvert_exporter": "python",
   "pygments_lexer": "ipython3",
   "version": "3.6.5"
  }
 },
 "nbformat": 4,
 "nbformat_minor": 2
}
