{
 "cells": [
  {
   "cell_type": "code",
   "execution_count": null,
   "metadata": {},
   "outputs": [],
   "source": [
    "import os\n",
    "import requests\n",
    "import json\n",
    "import re\n",
    "import time\n",
    "import glob\n",
    "import datetime\n",
    "import matplotlib.pyplot as plt\n",
    "import pandas as pd\n",
    "import numpy as np\n",
    "from os.path import join\n",
    "from slugify import slugify\n",
    "from bs4 import BeautifulSoup\n",
    "from bs4.element import NavigableString\n",
    "from urllib.parse import urlparse, parse_qs\n",
    "\n",
    "base_dir = \"vuelax\"\n",
    "if not os.path.exists(base_dir):\n",
    "    os.makedirs(base_dir)\n",
    "    \n",
    "original_file = join(base_dir, \"original.csv\")"
   ]
  },
  {
   "cell_type": "code",
   "execution_count": null,
   "metadata": {
    "collapsed": true
   },
   "outputs": [],
   "source": [
    "months = {'enero':1, 'febrero':2, 'marzo':3,\n",
    "          'abril':4, 'mayo':5, 'junio':6,\n",
    "          'julio':7,'agosto':8, 'septiembre':9,\n",
    "          'octubre':10, 'noviembre':11, 'diciembre':12}\n",
    "\n",
    "date_regex = re.compile('(\\w+) ([0-9]+), ([0-9]{4})')\n",
    "\n",
    "def date_converter(date):\n",
    "    found = date_regex.search(date)\n",
    "    if found:\n",
    "        return datetime.datetime(year=int(found.group(3)), month=months[found.group(1)], day=int(found.group(2)))\n",
    "    else:\n",
    "        return np.nan"
   ]
  },
  {
   "cell_type": "code",
   "execution_count": null,
   "metadata": {},
   "outputs": [],
   "source": [
    "data = None\n",
    "last_date = None\n",
    "if os.path.exists(original_file):\n",
    "    data = pd.read_csv(original_file, index_col=0, parse_dates=['date'], encoding='utf-8')\n",
    "    last_date = data.iloc[0]['date']\n",
    "    print(\"Last date\", last_date)\n",
    "    print(data.head())"
   ]
  },
  {
   "cell_type": "code",
   "execution_count": null,
   "metadata": {
    "collapsed": true
   },
   "outputs": [],
   "source": [
    "oportunidades_url = \"http://www.vuelax.com/category/%s/page/%d/\"\n",
    "uncategorized_url = \"http://www.vuelax.com/category/%s/page/%d/\"\n",
    "\n",
    "categories = ['oportunidades', 'uncategorized']"
   ]
  },
  {
   "cell_type": "code",
   "execution_count": null,
   "metadata": {},
   "outputs": [],
   "source": [
    "for category in categories:\n",
    "    content = []\n",
    "    for page in range(1, 1000000):\n",
    "        url = uncategorized_url % (category, page)\n",
    "        op_page = requests.get(url)\n",
    "        if page % 10 == 0:\n",
    "            print(\"Requesting\", url)\n",
    "        if op_page.status_code != 200:\n",
    "            break\n",
    "        op_soup = BeautifulSoup(op_page.text, \"html.parser\")\n",
    "        main_ul = op_soup.find(\"ul\", {\"class\":\"penci-grid\"})\n",
    "        articles = main_ul.findAll(\"article\", {\"class\":\"item\"})\n",
    "        for article in articles:\n",
    "            grid_title = article.find(\"h2\", {\"class\":\"grid-title\"})\n",
    "            a = grid_title.find(\"a\")\n",
    "            grid_post_box_meta = article.find(\"div\", {\"class\":\"grid-post-box-meta\"})\n",
    "            date = date_converter(grid_post_box_meta.text.strip())\n",
    "            content.append([a.text, a.get('href'), date])\n",
    "        \n",
    "    data =  pd.DataFrame(content, columns= [\"label\", \"url\", \"date\"])\n",
    "    data.sort_values(by=['date', 'label'], ascending= False, inplace=True)\n",
    "    data.to_csv(join(base_dir, \"%s.csv\" % category), encoding='utf-8')\n",
    "    print(data.info())\n",
    "\n",
    "print(\"Done\")"
   ]
  },
  {
   "cell_type": "code",
   "execution_count": null,
   "metadata": {},
   "outputs": [],
   "source": [
    "frames = []\n",
    "for category in categories:\n",
    "    frame = pd.read_csv(join(base_dir, \"%s.csv\" % category), index_col=0, encoding='utf-8')\n",
    "    frames.append(frame)\n",
    "data = pd.concat(frames).reset_index(drop=True)\n",
    "data.head()"
   ]
  },
  {
   "cell_type": "code",
   "execution_count": null,
   "metadata": {},
   "outputs": [],
   "source": [
    "location_regex = re.compile('([\\w0-9,\\s\\.]+) [a|A] ([\\w0-9,\\s\\.]+)\\s*[-|–|\"desde\"|\"DESDE\"]\\s*\\$([0-9\\.,]+)')\n",
    "location_regex_note = re.compile('([\\w0-9,\\s\\.]+) [a|A] ([\\w0-9,\\s\\.]+)\\s*\\(([\\w\\s]+)\\)\\s*[-|–|\"desde\"|\"DESDE\"]\\s*\\$([0-9\\.,]+)')\n",
    "\n",
    "clean_values = []\n",
    "non_clean_values = []\n",
    "\n",
    "for index, row in data.iterrows():\n",
    "    label = row['label']\n",
    "    de = None\n",
    "    a = None\n",
    "    price = None\n",
    "    note = None\n",
    "    \n",
    "    find_simple = location_regex.search(label)\n",
    "    if find_simple:\n",
    "        de = find_simple.group(1)\n",
    "        a = find_simple.group(2)\n",
    "        por = find_simple.group(3)\n",
    "    else:\n",
    "        find_note = location_regex_note.search(label)\n",
    "        if find_note:\n",
    "            de = find_note.group(1)\n",
    "            a = find_note.group(2)\n",
    "            note = find_note.group(3)\n",
    "            por = find_note.group(4)\n",
    "        else:\n",
    "            non_clean_values.append(row.values)\n",
    "            \n",
    "    if de is not None:\n",
    "        clean_values.append([de, a, por,note, row[\"url\"], row[\"date\"]])\n",
    "\n",
    "clean = pd.DataFrame(clean_values, columns= [\"origin\", \"destination\", \"price\", \"note\", \"url\", \"date\"])\n",
    "still_dirty_df = pd.DataFrame(non_clean_values, columns= [\"label\", \"url\", \"date\"])\n",
    "\n",
    "\n",
    "\n",
    "print(\"== Clean ==\")\n",
    "print(clean.head())\n",
    "print(clean.info())\n",
    "clean.to_csv(join(base_dir, \"clean.csv\"), encoding='utf-8')\n",
    "print()\n",
    "print(\"== Dirty ==\")\n",
    "print(still_dirty_df.head())\n",
    "print(still_dirty_df.info())\n",
    "still_dirty_df.to_csv(join(base_dir, \"still_dirty.csv\"), encoding='utf-8')"
   ]
  },
  {
   "cell_type": "code",
   "execution_count": null,
   "metadata": {},
   "outputs": [],
   "source": [
    "clean = pd.read_csv(join(base_dir, \"clean.csv\"), index_col = 0)\n",
    "\n",
    "strip_blanks = lambda x: x.strip()\n",
    "strip_dot = lambda x: x.strip('.')\n",
    "\n",
    "print(clean[['origin','destination','price']].tail(30))\n",
    "clean.origin = clean.origin.apply(strip_blanks)\n",
    "clean.destination = clean.destination.apply(strip_blanks)\n",
    "clean.price = clean.price.apply(strip_dot)\n",
    "print(clean[['origin','destination','price']].tail(30))\n",
    "\n",
    "\n",
    "clean.to_csv(join(base_dir, \"clean.csv\"), encoding='utf-8')"
   ]
  },
  {
   "cell_type": "code",
   "execution_count": null,
   "metadata": {},
   "outputs": [],
   "source": [
    "clean = pd.read_csv(join(base_dir, \"clean.csv\"), index_col = 0, encoding='utf-8')\n",
    "clean.info()"
   ]
  },
  {
   "cell_type": "code",
   "execution_count": null,
   "metadata": {
    "collapsed": true
   },
   "outputs": [],
   "source": [
    "convert_price = lambda price: float(price.replace(',',''))\n",
    "clean.price = clean['price'].apply(convert_price)\n",
    "clean.to_csv(join(base_dir, \"clean.csv\"), encoding='utf-8')"
   ]
  },
  {
   "cell_type": "code",
   "execution_count": null,
   "metadata": {},
   "outputs": [],
   "source": [
    "import nltk\n",
    "tolist  = lambda origin: [t.strip() for t in nltk.tokenize.regexp.regexp_tokenize(origin, r'[y,\\.\\?!\"]\\s*', gaps=True)]\n",
    "\n",
    "separate_origins = []\n",
    "\n",
    "for index, row in clean.iterrows():\n",
    "    origins = tolist(row['origin'])\n",
    "    for origin in origins:\n",
    "        separate_origins.append([origin, row['destination'],\n",
    "                                row['date'], row['price'],\n",
    "                                row['note'], row['url']])\n",
    "        \n",
    "separa_origin_df = pd.DataFrame(separate_origins, columns=['origin', 'destination',\n",
    "                                                           'date', 'price', \n",
    "                                                           'note', 'url'])\n",
    "\n",
    "separa_origin_df.to_csv(join(base_dir, \"separate_origins.csv\"), encoding='utf-8')"
   ]
  },
  {
   "cell_type": "code",
   "execution_count": null,
   "metadata": {},
   "outputs": [],
   "source": [
    "unique_locations = sorted(set(list(separa_origin_df.origin.unique()) + list(separa_origin_df.destination.unique())))\n",
    "print(unique_locations)"
   ]
  },
  {
   "cell_type": "code",
   "execution_count": null,
   "metadata": {
    "collapsed": true
   },
   "outputs": [],
   "source": [
    "import geocoder\n",
    "\n",
    "real_locations = {'CDMX': 'Ciudad de México', \n",
    "                  'CUN': 'Cancún', 'GDL': 'Guadalajara',\n",
    "                  'L.A.': 'Los Angeles', 'LA': 'Los Angeles',\n",
    "                  'MTY': 'Monterrey', 'NYC': 'New York City', \n",
    "                  'PUE': 'Puebla', 'QRO': 'Querétaro',\n",
    "                  'SLP': 'San Luis Potosí',\n",
    "                  'TIJ': 'Tijuana', 'VER': 'Veracruz'\n",
    "                 }\n",
    "\n",
    "location_dic = {}\n",
    "for l in locations[21:]:\n",
    "    l = real_locations.get(l, l)\n",
    "    g = geocoder.google(l,key = 'GOOGLE KEY API')\n",
    "    if g.ok:\n",
    "        location_dic[l] = g.latlng"
   ]
  },
  {
   "cell_type": "code",
   "execution_count": null,
   "metadata": {},
   "outputs": [],
   "source": [
    "get_real_name = lambda l: real_locations.get(l, l)\n",
    "get_lat = lambda l: location_dic.get(l, (np.nan,np.nan))[0]\n",
    "get_long = lambda l: location_dic.get(l, (np.nan,np.nan))[1]\n",
    "\n",
    "separa_origin_df['origin'] = separa_origin_df.origin.apply(get_real_name)\n",
    "separa_origin_df['origin_lat'] = separa_origin_df.origin.apply(get_lat)\n",
    "separa_origin_df['origin_long'] = separa_origin_df.origin.apply(get_long)\n",
    "separa_origin_df['destination_lat'] = separa_origin_df.destination.apply(get_lat)\n",
    "separa_origin_df['destination_long'] = separa_origin_df.destination.apply(get_long)\n",
    "\n",
    "separa_origin_df = separa_origin_df[['origin','origin_lat','origin_long',\n",
    "                                     'destination','destination_lat','destination_long',\n",
    "                                     'date', 'price', 'url','note']]\n",
    "separa_origin_df.to_csv(join(base_dir, \"separate_origins.csv\"), encoding='utf-8')\n",
    "separa_origin_df.head()"
   ]
  },
  {
   "cell_type": "code",
   "execution_count": null,
   "metadata": {},
   "outputs": [],
   "source": [
    "clean.describe()"
   ]
  },
  {
   "cell_type": "code",
   "execution_count": null,
   "metadata": {},
   "outputs": [],
   "source": [
    "clean.iloc[clean.price.argmin()]"
   ]
  },
  {
   "cell_type": "code",
   "execution_count": null,
   "metadata": {},
   "outputs": [],
   "source": [
    "unique_destinations = clean.origin.unique()\n",
    "\n",
    "dest = set()\n",
    "\n",
    "for u in unique_destinations:\n",
    "    parts = re.findall(r\"[\\w\\.']+\", u)\n",
    "    print(u, parts)\n",
    "    for part in parts:\n",
    "        if part == '' or part ==\"y\" or part==\"Y\":\n",
    "            break\n",
    "        dest.add(part.strip())\n",
    "print(dest)"
   ]
  },
  {
   "cell_type": "code",
   "execution_count": null,
   "metadata": {
    "collapsed": true
   },
   "outputs": [],
   "source": []
  }
 ],
 "metadata": {
  "kernelspec": {
   "display_name": "Python 3",
   "language": "python",
   "name": "python3"
  },
  "language_info": {
   "codemirror_mode": {
    "name": "ipython",
    "version": 3
   },
   "file_extension": ".py",
   "mimetype": "text/x-python",
   "name": "python",
   "nbconvert_exporter": "python",
   "pygments_lexer": "ipython3",
   "version": "3.6.2"
  }
 },
 "nbformat": 4,
 "nbformat_minor": 2
}
