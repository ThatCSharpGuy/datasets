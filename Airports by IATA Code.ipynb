{
 "cells": [
  {
   "cell_type": "code",
   "execution_count": 1,
   "metadata": {},
   "outputs": [],
   "source": [
    "import requests\n",
    "from bs4 import BeautifulSoup\n",
    "import pandas as pd"
   ]
  },
  {
   "cell_type": "code",
   "execution_count": 2,
   "metadata": {},
   "outputs": [
    {
     "name": "stdout",
     "output_type": "stream",
     "text": [
      "A B C D E F G H I J K L M N O P Q R S T U V W X Y Z "
     ]
    },
    {
     "data": {
      "text/html": [
       "<div>\n",
       "<style scoped>\n",
       "    .dataframe tbody tr th:only-of-type {\n",
       "        vertical-align: middle;\n",
       "    }\n",
       "\n",
       "    .dataframe tbody tr th {\n",
       "        vertical-align: top;\n",
       "    }\n",
       "\n",
       "    .dataframe thead th {\n",
       "        text-align: right;\n",
       "    }\n",
       "</style>\n",
       "<table border=\"1\" class=\"dataframe\">\n",
       "  <thead>\n",
       "    <tr style=\"text-align: right;\">\n",
       "      <th></th>\n",
       "      <th>IATA</th>\n",
       "      <th>ICAO</th>\n",
       "      <th>Airport name</th>\n",
       "      <th>Location served</th>\n",
       "      <th>Time</th>\n",
       "      <th>DST</th>\n",
       "    </tr>\n",
       "  </thead>\n",
       "  <tbody>\n",
       "    <tr>\n",
       "      <th>0</th>\n",
       "      <td>AAA</td>\n",
       "      <td>NTGA</td>\n",
       "      <td>Anaa Airport</td>\n",
       "      <td>Anaa, Tuamotus, French Polynesia</td>\n",
       "      <td>UTC−10:00</td>\n",
       "      <td></td>\n",
       "    </tr>\n",
       "    <tr>\n",
       "      <th>1</th>\n",
       "      <td>AAB</td>\n",
       "      <td>YARY</td>\n",
       "      <td>Arrabury Airport</td>\n",
       "      <td>Arrabury, Queensland, Australia</td>\n",
       "      <td>UTC+10:00</td>\n",
       "      <td></td>\n",
       "    </tr>\n",
       "    <tr>\n",
       "      <th>2</th>\n",
       "      <td>AAC</td>\n",
       "      <td>HEAR</td>\n",
       "      <td>El Arish International Airport</td>\n",
       "      <td>El Arish, Egypt</td>\n",
       "      <td>UTC+02:00</td>\n",
       "      <td></td>\n",
       "    </tr>\n",
       "    <tr>\n",
       "      <th>3</th>\n",
       "      <td>AAD</td>\n",
       "      <td></td>\n",
       "      <td>Adado Airport</td>\n",
       "      <td>Adado (Cadaado), Galguduud, Somalia</td>\n",
       "      <td>UTC+03:00</td>\n",
       "      <td></td>\n",
       "    </tr>\n",
       "    <tr>\n",
       "      <th>4</th>\n",
       "      <td>AAE</td>\n",
       "      <td>DABB</td>\n",
       "      <td>Rabah Bitat Airport (Les Salines Airport)</td>\n",
       "      <td>Annaba, Algeria</td>\n",
       "      <td>UTC+01:00</td>\n",
       "      <td></td>\n",
       "    </tr>\n",
       "  </tbody>\n",
       "</table>\n",
       "</div>"
      ],
      "text/plain": [
       "  IATA  ICAO                               Airport name  \\\n",
       "0  AAA  NTGA                               Anaa Airport   \n",
       "1  AAB  YARY                           Arrabury Airport   \n",
       "2  AAC  HEAR             El Arish International Airport   \n",
       "3  AAD                                    Adado Airport   \n",
       "4  AAE  DABB  Rabah Bitat Airport (Les Salines Airport)   \n",
       "\n",
       "                       Location served       Time DST  \n",
       "0     Anaa, Tuamotus, French Polynesia  UTC−10:00      \n",
       "1      Arrabury, Queensland, Australia  UTC+10:00      \n",
       "2                      El Arish, Egypt  UTC+02:00      \n",
       "3  Adado (Cadaado), Galguduud, Somalia  UTC+03:00      \n",
       "4                      Annaba, Algeria  UTC+01:00      "
      ]
     },
     "execution_count": 2,
     "metadata": {},
     "output_type": "execute_result"
    }
   ],
   "source": [
    "codes = []\n",
    "\n",
    "for letter in range(ord('A'), ord('Z') + 1):\n",
    "    print(chr(letter), end=' ')\n",
    "    url = \"https://en.wikipedia.org/wiki/List_of_airports_by_IATA_code:_%s\" % chr(letter)\n",
    "    page_request = requests.get(url)\n",
    "    soup = BeautifulSoup(page_request.text, \"lxml\")\n",
    "    wikitable = soup.find('table', {'class':'wikitable'})\n",
    "    \n",
    "    trs = wikitable.findAll('tr')\n",
    "\n",
    "    for tr in trs[1:]: # Skip header\n",
    "        if tr.get('class'):\n",
    "            continue\n",
    "        tds = tr.findAll('td')\n",
    "        content = [tds[0].text, # IATA\n",
    "                    tds[1].text,  # ICAO\n",
    "                    tds[2].text,  # Airport name\n",
    "                    tds[3].text] #Location served \n",
    "        if len(tds) > 4:\n",
    "            content.extend([tds[4].text, tds[5].text])\n",
    "        else:\n",
    "            content.extend([\"-\",\"-\"])\n",
    "        codes.append(content)\n",
    "\n",
    "iata_codes = pd.DataFrame(codes, \n",
    "                          columns=[\n",
    "                              \"IATA\", \n",
    "                              \"ICAO\",\n",
    "                              \"Airport name\",\n",
    "                              \"Location served\",\n",
    "                              \"Time\",\n",
    "                              \"DST\"])\n",
    "iata_codes.head()"
   ]
  },
  {
   "cell_type": "code",
   "execution_count": 3,
   "metadata": {},
   "outputs": [],
   "source": [
    "iata_codes.to_csv(\"vuelax/airports.csv\")"
   ]
  },
  {
   "cell_type": "code",
   "execution_count": null,
   "metadata": {},
   "outputs": [],
   "source": []
  }
 ],
 "metadata": {
  "kernelspec": {
   "display_name": "Python 3",
   "language": "python",
   "name": "python3"
  },
  "language_info": {
   "codemirror_mode": {
    "name": "ipython",
    "version": 3
   },
   "file_extension": ".py",
   "mimetype": "text/x-python",
   "name": "python",
   "nbconvert_exporter": "python",
   "pygments_lexer": "ipython3",
   "version": "3.6.4"
  }
 },
 "nbformat": 4,
 "nbformat_minor": 2
}
