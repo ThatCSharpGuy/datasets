{
 "cells": [
  {
   "cell_type": "code",
   "execution_count": 1,
   "metadata": {
    "collapsed": true
   },
   "outputs": [],
   "source": [
    "import os\n",
    "import requests\n",
    "import json\n",
    "import re\n",
    "import pandas as pd\n",
    "import matplotlib.pyplot as plt\n",
    "from os.path import join\n",
    "from slugify import slugify\n",
    "from bs4 import BeautifulSoup\n",
    "from bs4.element import NavigableString\n",
    "\n",
    "base_dir = \"tloz-scrape\"\n",
    "if not os.path.exists(base_dir):\n",
    "    os.makedirs(base_dir)"
   ]
  },
  {
   "cell_type": "code",
   "execution_count": 2,
   "metadata": {
    "collapsed": true
   },
   "outputs": [],
   "source": [
    "base_url = \"http://zelda.wikia.com\"\n",
    "characters = base_url + \"/wiki/The_Legend_of_Zelda_recurring_characters\"\n",
    "recurring_characters = BeautifulSoup(requests.get(characters).text, \"lxml\")"
   ]
  },
  {
   "cell_type": "code",
   "execution_count": 3,
   "metadata": {
    "collapsed": true,
    "scrolled": false
   },
   "outputs": [],
   "source": [
    "mw_content_text = recurring_characters.find('div', {\"id\":\"mw-content-text\"})\n",
    "\n",
    "attributes = set()\n",
    "characters = []\n",
    "\n",
    "for character_li in mw_content_text.findAll('li'):\n",
    "    a = character_li.find('a')\n",
    "    character_page = BeautifulSoup(requests.get(base_url + a['href']).text, \"lxml\")\n",
    "    aside = character_page.find('aside')\n",
    "    if aside is None:\n",
    "        continue\n",
    "    pi_datas = aside.findAll('div', {'class':'pi-item'}, recursive=False)\n",
    "    character = {\n",
    "        'name': a.text.strip()\n",
    "    }\n",
    "    for pi_data in pi_datas:\n",
    "        if isinstance(pi_data, NavigableString):\n",
    "            continue\n",
    "        label = pi_data.find('h3').text.strip()\n",
    "        value = pi_data.find('div', {\"class\":\"pi-data-value\"})\n",
    "        attributes.add(label)\n",
    "        if \"Appears in\" == label: \n",
    "            i = value.findAll('i')\n",
    "            character[slugify(label, separator=\"_\")] = [ap.text.strip() for ap in i]\n",
    "        elif \"Title(s)\" == label or \\\n",
    "            \"Appearances\" == label or \\\n",
    "            \"Kindred\" == label or \\\n",
    "            \"Attack method\"== label or \\\n",
    "            \"Effective weapon(s)\" == label or \\\n",
    "            \"Spoils\" == label or \\\n",
    "            \"Alternate form(s)\" == label or \\\n",
    "            \"Alternate form of\" == label:\n",
    "            character[slugify(label, separator=\"_\")] = str(value)\n",
    "        elif \"Homeland\" == label or \\\n",
    "            \"Race\" == label or \\\n",
    "            \"Hometown\" == label or \\\n",
    "            \"Location(s)\" == label or \\\n",
    "            \"Affiliation(s)\" == label:\n",
    "            character[slugify(label, separator=\"_\")] = []\n",
    "            game_name = ''\n",
    "            for element in value.descendants:\n",
    "                if element.name == \"u\":\n",
    "                    game_name = element.text.strip()\n",
    "                elif element.name == \"a\":\n",
    "                    if game_name == '': # Solo tiene una aparición\n",
    "                        game_name = 'ORIGINAL'\n",
    "                    character[slugify(label, separator=\"_\")].append({'game': game_name,\n",
    "                                                                     'value': element.text.strip()})\n",
    "        else:\n",
    "            character[slugify(label, separator=\"_\")] = value.text.strip()\n",
    "    characters.append(character)\n",
    "    \n",
    "with open(join(base_dir,'data.txt'), 'w') as outfile:\n",
    "    json.dump(characters, outfile, indent=4)"
   ]
  },
  {
   "cell_type": "code",
   "execution_count": 4,
   "metadata": {},
   "outputs": [
    {
     "name": "stdout",
     "output_type": "stream",
     "text": [
      "Different attributes: ['title_s', 'alternate_form_of', 'location_s', 'gender', 'affiliation_s', 'hometown', 'alternate_form_s', 'attack_method', 'appears_in', 'homeland', 'age', 'effective_weapon_s', 'appearances', 'spoils', 'first_appearance', 'kindred', 'race']\n"
     ]
    }
   ],
   "source": [
    "with open(join(base_dir,'data.txt')) as json_data:\n",
    "    characters = json.load(json_data)\n",
    "\n",
    "attributes = set()\n",
    "for c in characters:\n",
    "    attributes.update(c.keys())\n",
    "attributes.remove('name')\n",
    "attributes = list(attributes)\n",
    "\n",
    "print(\"Different attributes:\", attributes)"
   ]
  },
  {
   "cell_type": "code",
   "execution_count": 5,
   "metadata": {
    "collapsed": true
   },
   "outputs": [],
   "source": [
    "fa_regex = re.compile('([\\w\\s\\'&]+)\\(([0-9]{4})\\)')\n",
    "different_games = set()\n",
    "name, first_game, first_year, gender = [], [], [], []\n",
    "\n",
    "for c in characters:\n",
    "    match = fa_regex.search(c['first_appearance'])\n",
    "    if match:\n",
    "        different_games.add(match.group(1).strip())\n",
    "        \n",
    "        first_game.append(match.group(1).strip())\n",
    "        first_year.append(int(match.group(2)))\n",
    "        name.append(c['name'])\n",
    "        \n",
    "        if 'gender' in c:\n",
    "            gender.append(c['gender'])\n",
    "        else:\n",
    "            gender.append('')\n",
    "        \n",
    "characters_initial_df = pd.DataFrame({'name': name,\n",
    "                                      'gender': gender,\n",
    "                                      'first_game': first_game,\n",
    "                                      'first_year': first_year\n",
    "                             })"
   ]
  },
  {
   "cell_type": "code",
   "execution_count": 6,
   "metadata": {},
   "outputs": [
    {
     "data": {
      "text/html": [
       "<div>\n",
       "<style>\n",
       "    .dataframe thead tr:only-child th {\n",
       "        text-align: right;\n",
       "    }\n",
       "\n",
       "    .dataframe thead th {\n",
       "        text-align: left;\n",
       "    }\n",
       "\n",
       "    .dataframe tbody tr th {\n",
       "        vertical-align: top;\n",
       "    }\n",
       "</style>\n",
       "<table border=\"1\" class=\"dataframe\">\n",
       "  <thead>\n",
       "    <tr style=\"text-align: right;\">\n",
       "      <th></th>\n",
       "      <th>first_game</th>\n",
       "      <th>first_year</th>\n",
       "      <th>gender</th>\n",
       "      <th>name</th>\n",
       "    </tr>\n",
       "  </thead>\n",
       "  <tbody>\n",
       "    <tr>\n",
       "      <th>0</th>\n",
       "      <td>Ocarina of Time</td>\n",
       "      <td>1998</td>\n",
       "      <td>Female</td>\n",
       "      <td>Anju</td>\n",
       "    </tr>\n",
       "    <tr>\n",
       "      <th>1</th>\n",
       "      <td>The Wind Waker</td>\n",
       "      <td>2003</td>\n",
       "      <td>Male</td>\n",
       "      <td>Ankle</td>\n",
       "    </tr>\n",
       "    <tr>\n",
       "      <th>2</th>\n",
       "      <td>Ocarina of Time</td>\n",
       "      <td>1998</td>\n",
       "      <td>Female</td>\n",
       "      <td>Aveil</td>\n",
       "    </tr>\n",
       "    <tr>\n",
       "      <th>3</th>\n",
       "      <td>Ocarina of Time</td>\n",
       "      <td>1998</td>\n",
       "      <td>Male</td>\n",
       "      <td>Bean Seller</td>\n",
       "    </tr>\n",
       "    <tr>\n",
       "      <th>4</th>\n",
       "      <td>The Wind Waker</td>\n",
       "      <td>2003</td>\n",
       "      <td>Male</td>\n",
       "      <td>Beedle</td>\n",
       "    </tr>\n",
       "  </tbody>\n",
       "</table>\n",
       "</div>"
      ],
      "text/plain": [
       "        first_game  first_year  gender         name\n",
       "0  Ocarina of Time        1998  Female         Anju\n",
       "1   The Wind Waker        2003    Male        Ankle\n",
       "2  Ocarina of Time        1998  Female        Aveil\n",
       "3  Ocarina of Time        1998    Male  Bean Seller\n",
       "4   The Wind Waker        2003    Male       Beedle"
      ]
     },
     "execution_count": 6,
     "metadata": {},
     "output_type": "execute_result"
    }
   ],
   "source": [
    "characters_initial_df.to_csv(join(base_dir,'characters_initial.csv'))\n",
    "characters_initial_df.head()"
   ]
  },
  {
   "cell_type": "code",
   "execution_count": 7,
   "metadata": {
    "collapsed": true,
    "scrolled": false
   },
   "outputs": [],
   "source": [
    "game_regex = re.compile('^\\(([0-9a-zA-Z/\\'\\s&]+)\\)')\n",
    "\n",
    "attributes = ['kindred', 'title_s']\n",
    "simple_attributes = ['alternate_form_s', 'appearances', 'alternate_form_of']\n",
    "\n",
    "for character in characters:\n",
    "    for attr in simple_attributes:\n",
    "        if attr in character:\n",
    "            attr_value = character[attr][len('<div class=\"pi-data-value pi-font\">'):-len(\"</div>\")]\n",
    "            value_list = [] \n",
    "            for kind in attr_value.split(\"<br/>\"):\n",
    "                    value_list.append(BeautifulSoup(kind, \"html.parser\").text.strip())\n",
    "            character[attr] = value_list\n",
    "    for attr in attributes:\n",
    "        if attr in character:\n",
    "            attr_value = character[attr][len('<div class=\"pi-data-value pi-font\">'):-len(\"</div>\")]\n",
    "            kindred_list = []\n",
    "            game = 'ORIGINAL'\n",
    "            for kind in attr_value.split(\"<br/>\"):\n",
    "                soup_content = BeautifulSoup(kind, \"html.parser\").text.strip()\n",
    "                match = game_regex.search(soup_content)\n",
    "                if match:\n",
    "                    game = match.group(1).strip()\n",
    "                else:\n",
    "                    kindred_list.append({'game':game, 'value':soup_content})\n",
    "            character[attr] = kindred_list\n",
    "\n",
    "    \n",
    "with open(join(base_dir,'recurring_characters.json'), 'w') as outfile:\n",
    "    json.dump(characters, outfile, indent=4)"
   ]
  },
  {
   "cell_type": "code",
   "execution_count": 8,
   "metadata": {},
   "outputs": [
    {
     "name": "stdout",
     "output_type": "stream",
     "text": [
      "Dark Link <div class=\"pi-data-value pi-font\">Mimicking <a href=\"/wiki/Link\" title=\"Link\">Link</a>'s attacks<br/>(<u><i>Tri Force Heroes</i></u>)<br/><a href=\"/wiki/Jinx\" title=\"Jinx\">Jinx</a></div>\n"
     ]
    }
   ],
   "source": [
    "for character in characters:\n",
    "    if 'attack_method' in character:\n",
    "        print(character['name'], character['attack_method'])"
   ]
  },
  {
   "cell_type": "code",
   "execution_count": null,
   "metadata": {
    "collapsed": true
   },
   "outputs": [],
   "source": []
  }
 ],
 "metadata": {
  "kernelspec": {
   "display_name": "Python 3",
   "language": "python",
   "name": "python3"
  },
  "language_info": {
   "codemirror_mode": {
    "name": "ipython",
    "version": 3
   },
   "file_extension": ".py",
   "mimetype": "text/x-python",
   "name": "python",
   "nbconvert_exporter": "python",
   "pygments_lexer": "ipython3",
   "version": "3.6.1"
  }
 },
 "nbformat": 4,
 "nbformat_minor": 2
}
