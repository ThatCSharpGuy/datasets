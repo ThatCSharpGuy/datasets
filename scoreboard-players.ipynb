{
 "cells": [
  {
   "cell_type": "code",
   "execution_count": null,
   "metadata": {},
   "outputs": [],
   "source": [
    "import requests\n",
    "from bs4 import BeautifulSoup\n",
    "import json\n",
    "import os\n",
    "from glob import glob \n",
    "from os.path import join\n",
    "\n",
    "folder = \"scoreboard-players\"\n",
    "base_url = \"https://www.scoreboard.com\"\n",
    "teams_folder = os.path.join(folder,\"teams\")\n",
    "\n",
    "if not os.path.exists(teams_folder):\n",
    "    os.mkdir(teams_folder)"
   ]
  },
  {
   "cell_type": "markdown",
   "metadata": {},
   "source": [
    "## Get countries"
   ]
  },
  {
   "cell_type": "code",
   "execution_count": null,
   "metadata": {},
   "outputs": [],
   "source": [
    "soccer_page = requests.get( base_url + \"/en/soccer/\")\n",
    "soccer_soup = BeautifulSoup(soccer_page.content, \"html5lib\")"
   ]
  },
  {
   "cell_type": "code",
   "execution_count": null,
   "metadata": {},
   "outputs": [],
   "source": [
    "left_content = soccer_soup.find(\"div\", {\"class\":\"left-content\"})\n",
    "uls = left_content.findAll(\"ul\", recursive=False)\n",
    "\n",
    "countries_links = []\n",
    "region_lis = [ul.findAll(\"li\", recursive=False) for ul in uls]\n",
    "for region in region_lis:\n",
    "    for li in region:\n",
    "        a = li.find('a')\n",
    "        id_ = int(li.get('id')[6:])\n",
    "        if a and a.get('href'):\n",
    "            href = a.get('href')\n",
    "            countries_links.append([a.text.strip(), href, id_])\n",
    "\n",
    "countries_links[:10]"
   ]
  },
  {
   "cell_type": "markdown",
   "metadata": {},
   "source": [
    "## Get leagues per country"
   ]
  },
  {
   "cell_type": "code",
   "execution_count": null,
   "metadata": {},
   "outputs": [],
   "source": [
    "def get_leagues(string):\n",
    "    leagues = []\n",
    "    current_league = ''\n",
    "    in_league = False\n",
    "    in_string = False\n",
    "    for i in range(len(string)):\n",
    "        c = string[i]\n",
    "        if c == \"\u00f7\" and string[i-1] == \"U\":\n",
    "            in_string = True\n",
    "        elif c == \"\u00ac\" and current_league:\n",
    "            in_string = False\n",
    "            leagues.append(current_league)\n",
    "            current_league = ''\n",
    "        elif in_string:\n",
    "            current_league += c\n",
    "    return leagues"
   ]
  },
  {
   "cell_type": "code",
   "execution_count": null,
   "metadata": {},
   "outputs": [],
   "source": [
    "countries = []\n",
    "for country in countries_links:\n",
    "    c = {\n",
    "        'name': country[0],\n",
    "        'link': country[1]\n",
    "    }\n",
    "    country_page = requests.get(\"https://www.scoreboard.com/en/x/req/m_1_\" + str(country[2]))\n",
    "    text = country_page.content.decode('UTF-8') \n",
    "    c['leagues'] = get_leagues(text)\n",
    "    countries.append(c)\n",
    "print(len(countries))"
   ]
  },
  {
   "cell_type": "code",
   "execution_count": null,
   "metadata": {},
   "outputs": [],
   "source": [
    "with open(os.path.join(folder, \"countries.json\"), \"w\") as w:\n",
    "    json.dump(countries, w, indent=2)"
   ]
  },
  {
   "cell_type": "markdown",
   "metadata": {},
   "source": [
    "## Get squads"
   ]
  },
  {
   "cell_type": "code",
   "execution_count": null,
   "metadata": {},
   "outputs": [],
   "source": [
    "def is_int(s):\n",
    "    try: \n",
    "        int(s)\n",
    "        return True\n",
    "    except ValueError:\n",
    "        return False\n",
    "\n",
    "def get_team_id(url):\n",
    "    v = url.split(\"/\")\n",
    "    return v[-2] + \"_\" + v[-1]\n",
    "\n",
    "def get_squad(squad_soup):\n",
    "    squad_table = squad_soup.select(\"table[class*='squad-table']\")[0]\n",
    "    squad_trs = squad_table.findAll(\"tr\")\n",
    "    type_title = None\n",
    "    squad = []\n",
    "    for tr in squad_trs:\n",
    "        tr_class = tr.get(\"class\")[0]\n",
    "        tds = tr.findAll(\"td\")\n",
    "        if tr_class == \"player-type-title\":\n",
    "            type_title = tr.text.strip()\n",
    "        elif tr_class == \"player\" or tr_class == \"coach\":\n",
    "            jersey_number = int(tds[0].text) if is_int(tds[0].text) else -1\n",
    "            country = tds[1].find('span').get(\"title\")\n",
    "            a = tds[1].find('a')\n",
    "            age = int(tds[2].text) if is_int(tds[2].text) else -1\n",
    "\n",
    "            squad.append({\n",
    "                'jersey':jersey_number, \n",
    "                'kind': tr_class, \n",
    "                'type': type_title,\n",
    "                'name': a.text.strip(),\n",
    "                'age': age,\n",
    "                'country': country,\n",
    "                'link': a.get(\"href\"),\n",
    "            })\n",
    "\n",
    "    return squad"
   ]
  },
  {
   "cell_type": "code",
   "execution_count": null,
   "metadata": {},
   "outputs": [],
   "source": [
    "leagues = []\n",
    "\n",
    "for c in countries:\n",
    "    link = base_url + c['link']\n",
    "    for l in c['leagues']:\n",
    "        leagues.append(link+l)"
   ]
  },
  {
   "cell_type": "code",
   "execution_count": null,
   "metadata": {},
   "outputs": [],
   "source": [
    "downloaded_squads = set([f.split(\"/\")[-1][:-5]  for f in glob(teams_folder +\"/*_*.json\")])\n",
    "\n",
    "for league_url in leagues:\n",
    "    parts = league_url.split(\"/\")\n",
    "    country = parts[-2]\n",
    "    league_id = parts[-1]\n",
    "    file = os.path.join(folder, country + \"_\" + league_id + \".json\")\n",
    "    if os.path.exists(file): \n",
    "        continue\n",
    "    \n",
    "    teams_page = requests.get( league_url + \"/teams/\")\n",
    "    teams_soup = BeautifulSoup(teams_page.content, \"html5lib\")\n",
    "    participants = teams_soup.find(\"div\",id=\"tournament-page-participants\")\n",
    "    teams_a = [tr.find(\"a\") \n",
    "               for tr in participants.findAll(\"tr\") \n",
    "               if tr.get(\"id\",\"\").startswith(\"participant_\")]\n",
    "    \n",
    "    league = {\n",
    "        'link': league_url,\n",
    "        'name': teams_soup.find(\"div\", {'class':'tournament-name'}).text.strip(),\n",
    "        'country': country\n",
    "    }\n",
    "    \n",
    "    teams = []\n",
    "    for a in teams_a:\n",
    "        team_id = get_team_id(a.get(\"href\"))\n",
    "        teams.append(team_id)\n",
    "        if not team_id in downloaded_squads:\n",
    "            squad_link = base_url + a.get(\"href\") + \"/squad\"\n",
    "            squad_page = requests.get(squad_link)\n",
    "            squad_soup = BeautifulSoup(squad_page.content, \"html5lib\")\n",
    "            team = { \n",
    "                'id': team_id,\n",
    "                'link': base_url + a.get(\"href\"), \n",
    "                'name': a.text.strip(),\n",
    "                'country': country\n",
    "            }\n",
    "            try:\n",
    "                team[\"squad\"] = get_squad(squad_soup)\n",
    "            except:\n",
    "                pass\n",
    "            with open(join(teams_folder, team_id + \".json\"), \"w\") as w:\n",
    "                json.dump(team, w, indent=4)\n",
    "            downloaded_squads.add(team[\"id\"])\n",
    "            \n",
    "    league[\"teams\"] = teams\n",
    "    with open(file, \"w\") as w:\n",
    "        json.dump(league, w, indent=1)\n",
    "        print(file)"
   ]
  },
  {
   "cell_type": "code",
   "execution_count": null,
   "metadata": {},
   "outputs": [],
   "source": []
  }
 ],
 "metadata": {
  "kernelspec": {
   "display_name": "Python 3",
   "language": "python",
   "name": "python3"
  },
  "language_info": {
   "codemirror_mode": {
    "name": "ipython",
    "version": 3
   },
   "file_extension": ".py",
   "mimetype": "text/x-python",
   "name": "python",
   "nbconvert_exporter": "python",
   "pygments_lexer": "ipython3",
   "version": "3.6.5"
  }
 },
 "nbformat": 4,
 "nbformat_minor": 2
}